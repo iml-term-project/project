{
 "cells": [
  {
   "cell_type": "code",
   "execution_count": 32,
   "metadata": {},
   "outputs": [],
   "source": [
    "import pandas as pd\n",
    "import numpy as np\n",
    "from sklearn.ensemble import RandomForestRegressor\n",
    "from sklearn.svm import SVR\n",
    "from sklearn.pipeline import make_pipeline\n",
    "from sklearn.preprocessing import StandardScaler\n",
    "from sklearn.model_selection import cross_val_score\n",
    "from sklearn.ensemble import HistGradientBoostingRegressor\n",
    "from sklearn.dummy import DummyRegressor\n",
    "from sklearn.feature_selection import SequentialFeatureSelector, SelectFromModel\n",
    "import matplotlib.pyplot as plt\n",
    "from sklearn.inspection import permutation_importance\n",
    "import pickle\n",
    "from scipy.ndimage import shift\n",
    "import lightgbm as lgb\n",
    "from sklearn.linear_model import ElasticNetCV"
   ]
  },
  {
   "cell_type": "code",
   "execution_count": 5,
   "metadata": {},
   "outputs": [],
   "source": [
    "train = pd.read_csv(\"../../kaggle_data/train.csv\")\n",
    "test = pd.read_csv(\"../../kaggle_data/test.csv\")"
   ]
  },
  {
   "cell_type": "code",
   "execution_count": 6,
   "metadata": {},
   "outputs": [],
   "source": [
    "train = train.loc[np.all(train.notna(), axis=1), :]\n",
    "parentspecies_mapping = {\n",
    "    'toluene': 1,\n",
    "    'apin': 2,\n",
    "    'decane': 3,\n",
    "    'apin_toluene': 4,\n",
    "    'apin_decane': 5,\n",
    "    'apin_decane_toluene': 6,\n",
    "    'decane_toluene': 7\n",
    "}\n",
    "train['parentspecies'] = train['parentspecies'].map(parentspecies_mapping)\n",
    "test['parentspecies'] = test['parentspecies'].map(parentspecies_mapping)"
   ]
  },
  {
   "cell_type": "code",
   "execution_count": 7,
   "metadata": {},
   "outputs": [],
   "source": [
    "train_x = train.loc[:, ~train.columns.isin(['log_pSat_Pa', 'ID'])]\n",
    "train_y = train['log_pSat_Pa']"
   ]
  },
  {
   "cell_type": "markdown",
   "metadata": {},
   "source": [
    "## Default model scores"
   ]
  },
  {
   "cell_type": "code",
   "execution_count": 8,
   "metadata": {},
   "outputs": [],
   "source": [
    "dummy = DummyRegressor(strategy='mean')\n",
    "dummy_scores = cross_val_score(dummy, train_x, train_y, cv=10, scoring='r2')"
   ]
  },
  {
   "cell_type": "code",
   "execution_count": 12,
   "metadata": {},
   "outputs": [],
   "source": [
    "rf = RandomForestRegressor()\n",
    "rf_scores = cross_val_score(rf, train_x, train_y, cv=10, scoring='r2')"
   ]
  },
  {
   "cell_type": "code",
   "execution_count": 13,
   "metadata": {},
   "outputs": [],
   "source": [
    "svm_pipe = make_pipeline(StandardScaler(), SVR())\n",
    "svm_scores = cross_val_score(svm_pipe, train_x, train_y, cv=10, scoring='r2')"
   ]
  },
  {
   "cell_type": "code",
   "execution_count": null,
   "metadata": {},
   "outputs": [
    {
     "name": "stdout",
     "output_type": "stream",
     "text": [
      "0.7443802749508285\n"
     ]
    }
   ],
   "source": [
    "gb = HistGradientBoostingRegressor(categorical_features=['parentspecies'])\n",
    "gb_scores = cross_val_score(gb, train_x, train_y, cv=10, scoring='r2')"
   ]
  },
  {
   "cell_type": "code",
   "execution_count": 29,
   "metadata": {},
   "outputs": [
    {
     "name": "stdout",
     "output_type": "stream",
     "text": [
      "       Models    Scores\n",
      "0       dummy -0.000264\n",
      "1          RF  0.717607\n",
      "2         SVR  0.746615\n",
      "3          GB  0.743940\n",
      "4  SVR_linear  0.704179\n",
      "5  SVR_Poly_4  0.634562\n"
     ]
    }
   ],
   "source": [
    "models = ['dummy', 'RF', 'SVR', 'GB', 'SVR_linear', 'SVR_Poly_4']\n",
    "scores = [np.mean(dummy_scores), np.mean(rf_scores), np.mean(svm_scores), np.mean(gb_scores), np.mean(svm_linear_scores), np.mean(svm_poly_scores_dg4)]\n",
    "score_df = pd.DataFrame({'Models': models, 'Scores': scores})\n",
    "print(score_df)"
   ]
  },
  {
   "cell_type": "code",
   "execution_count": null,
   "metadata": {},
   "outputs": [],
   "source": [
    "train_pol = train_x.copy()\n",
    "\n",
    "for column in train_pol.columns:\n",
    "    if column != 'log_pSat_Pa':\n",
    "        try:\n",
    "            train_pol[column] = train_pol[column] ** 2\n",
    "        except (ValueError, AttributeError):\n",
    "            pass\n"
   ]
  },
  {
   "cell_type": "markdown",
   "metadata": {},
   "source": [
    "## Feature selection"
   ]
  },
  {
   "cell_type": "markdown",
   "metadata": {},
   "source": [
    "### Random Forest"
   ]
  },
  {
   "cell_type": "code",
   "execution_count": 9,
   "metadata": {},
   "outputs": [],
   "source": [
    "def select_only_important_features(\n",
    "    feature_importances: pd.Series,\n",
    "    rfr_model,\n",
    "    X_train: pd.DataFrame,\n",
    "    y_train: pd.DataFrame | np.ndarray,\n",
    "):\n",
    "    best_features = []\n",
    "    r2_scores = []\n",
    "    best_r2_score = 0\n",
    "    \n",
    "    for i in range(0, feature_importances.shape[0]):\n",
    "        features = feature_importances.index[0:i+1].to_list()\n",
    "        model = rfr_model.fit(X_train.loc[:, features], y_train)\n",
    "        scores = cross_val_score(model, X_train.loc[:, features], y_train, cv=3, scoring='r2')\n",
    "        mean_score = np.mean(scores)\n",
    "        if mean_score > best_r2_score:\n",
    "            best_features = features\n",
    "            best_r2_score = mean_score\n",
    "        r2_scores.append(mean_score)\n",
    "\n",
    "    return best_features, r2_scores"
   ]
  },
  {
   "cell_type": "code",
   "execution_count": null,
   "metadata": {},
   "outputs": [],
   "source": [
    "rf = RandomForestRegressor()\n",
    "rf_fit = rf.fit(train_x, train_y)\n",
    "rf_feature_importances = pd.Series(rf_fit.feature_importances_, index=train_x.columns)\n",
    "rf_feature_importances = rf_feature_importances.sort_values(ascending=False)\n",
    "print(rf_feature_importances)"
   ]
  },
  {
   "cell_type": "code",
   "execution_count": 12,
   "metadata": {},
   "outputs": [
    {
     "name": "stdout",
     "output_type": "stream",
     "text": [
      "NumHBondDonors                  0.471540\n",
      "NumOfC                          0.119223\n",
      "NumOfConf                       0.112079\n",
      "NumOfConfUsed                   0.055099\n",
      "NumOfAtoms                      0.053596\n",
      "MW                              0.025135\n",
      "hydroxyl (alkyl)                0.020012\n",
      "carbonylperoxynitrate           0.019487\n",
      "ketone                          0.017271\n",
      "carboxylic acid                 0.016109\n",
      "NumOfO                          0.013918\n",
      "aldehyde                        0.012627\n",
      "peroxide                        0.008663\n",
      "hydroperoxide                   0.008630\n",
      "carbonylperoxyacid              0.007964\n",
      "C=C (non-aromatic)              0.007158\n",
      "ester                           0.007107\n",
      "parentspecies                   0.005416\n",
      "nitrate                         0.005218\n",
      "ether (alicyclic)               0.005111\n",
      "nitro                           0.004416\n",
      "NumOfN                          0.002623\n",
      "nitroester                      0.000830\n",
      "C=C-C=O in non-aromatic ring    0.000728\n",
      "aromatic hydroxyl               0.000040\n",
      "dtype: float64\n"
     ]
    }
   ],
   "source": [
    "print(rf_feature_importances)"
   ]
  },
  {
   "cell_type": "code",
   "execution_count": 48,
   "metadata": {},
   "outputs": [
    {
     "name": "stdout",
     "output_type": "stream",
     "text": [
      "                 R2 score  R2 gained                 Feature added\n",
      "Num of features                                                   \n",
      "1                0.475098   0.475098                NumHBondDonors\n",
      "2                0.628552   0.153454                        NumOfC\n",
      "3                0.543776  -0.084776                     NumOfConf\n",
      "4                0.560953   0.017177                 NumOfConfUsed\n",
      "5                0.608981   0.048028                    NumOfAtoms\n",
      "6                0.631989   0.023008                            MW\n",
      "7                0.662263   0.030274              hydroxyl (alkyl)\n",
      "8                0.672247   0.009984         carbonylperoxynitrate\n",
      "9                0.685577   0.013329                        ketone\n",
      "10               0.693419   0.007843               carboxylic acid\n",
      "11               0.693699   0.000279                        NumOfO\n",
      "12               0.695317   0.001618                      aldehyde\n",
      "13               0.701542   0.006225                      peroxide\n",
      "14               0.703673   0.002131                 hydroperoxide\n",
      "15               0.704567   0.000895            carbonylperoxyacid\n",
      "16               0.706676   0.002109            C=C (non-aromatic)\n",
      "17               0.709368   0.002692                         ester\n",
      "18               0.713355   0.003986                 parentspecies\n",
      "19               0.713399   0.000044                       nitrate\n",
      "20               0.714973   0.001574             ether (alicyclic)\n",
      "21               0.715267   0.000294                         nitro\n",
      "22               0.715914   0.000647                        NumOfN\n",
      "23               0.714215  -0.001699                    nitroester\n",
      "24               0.714978   0.000763  C=C-C=O in non-aromatic ring\n",
      "25               0.715009   0.000031             aromatic hydroxyl\n"
     ]
    }
   ],
   "source": [
    "try:\n",
    "    with open('../pickles/rf_feature_selection_results.pickle', 'rb') as handle:\n",
    "        rf_feature_selection_results = pickle.load(handle)\n",
    "        rf_r2_scores = rf_feature_selection_results['r2_results']\n",
    "except:\n",
    "    rf_best_features, rf_r2_scores = select_only_important_features(rf_feature_importances, RandomForestRegressor(), train_x, train_y)\n",
    "\n",
    "rf_feature_selection_df = pd.DataFrame({\n",
    "    'Num of features': np.arange(1,26),\n",
    "    'R2 score': rf_r2_scores,\n",
    "    'R2 gained': rf_r2_scores - shift(rf_r2_scores, 1),\n",
    "    'Feature added': rf_feature_importances.index\n",
    "    })\n",
    "rf_feature_selection_df = rf_feature_selection_df.set_index('Num of features')\n",
    "print(rf_feature_selection_df)"
   ]
  },
  {
   "cell_type": "code",
   "execution_count": null,
   "metadata": {},
   "outputs": [
    {
     "data": {
      "text/plain": [
       "Text(0, 0.5, 'R2')"
      ]
     },
     "execution_count": 80,
     "metadata": {},
     "output_type": "execute_result"
    },
    {
     "data": {
      "image/png": "[encoded data removed]",
      "text/plain": [
       "<Figure size 640x480 with 1 Axes>"
      ]
     },
     "metadata": {},
     "output_type": "display_data"
    }
   ],
   "source": [
    "plt.plot(np.arange(1,26), rf_r2_scores)\n",
    "plt.xlabel('Number of features')\n",
    "plt.ylabel('R2')\n",
    "plt.title('R2 of RF with n most important features')\n",
    "plt.show()"
   ]
  },
  {
   "cell_type": "markdown",
   "metadata": {},
   "source": [
    "### Support Vector Regression"
   ]
  },
  {
   "cell_type": "code",
   "execution_count": null,
   "metadata": {},
   "outputs": [
    {
     "name": "stdout",
     "output_type": "stream",
     "text": [
      "NumOfC                          0.342834\n",
      "NumHBondDonors                  0.246036\n",
      "NumOfConf                       0.121222\n",
      "carboxylic acid                 0.099756\n",
      "NumOfAtoms                      0.060547\n",
      "hydroperoxide                   0.055878\n",
      "carbonylperoxyacid              0.044974\n",
      "peroxide                        0.044873\n",
      "hydroxyl (alkyl)                0.037951\n",
      "NumOfConfUsed                   0.032414\n",
      "MW                              0.030140\n",
      "carbonylperoxynitrate           0.028654\n",
      "ketone                          0.027432\n",
      "NumOfO                          0.025452\n",
      "ether (alicyclic)               0.022740\n",
      "parentspecies                   0.022603\n",
      "C=C (non-aromatic)              0.020821\n",
      "aldehyde                        0.014401\n",
      "ester                           0.010083\n",
      "nitrate                         0.009378\n",
      "NumOfN                          0.009148\n",
      "nitro                           0.007216\n",
      "C=C-C=O in non-aromatic ring    0.005325\n",
      "nitroester                      0.004249\n",
      "aromatic hydroxyl               0.001255\n",
      "dtype: float64\n"
     ]
    }
   ],
   "source": [
    "svm_pipe = make_pipeline(StandardScaler(), SVR())\n",
    "svm_pipe.fit(train_x, train_y)\n",
    "\n",
    "try:\n",
    "    with open('../pickles/svm_feature_importances.pickle', 'rb') as handle:\n",
    "        svm_feature_importances = pickle.load(handle)\n",
    "except:\n",
    "    svm_feature_importances = permutation_importance(svm_pipe, train_x, train_y, n_repeats=10, random_state=0)\n",
    "\n",
    "svm_feature_importance_means = svm_feature_importances.importances_mean\n",
    "svm_feature_importance_means = pd.Series(svm_feature_importance_means, index=train_x.columns)\n",
    "svm_feature_importance_means = svm_feature_importance_means.sort_values(ascending=False)\n",
    "print(svm_feature_importance_means)"
   ]
  },
  {
   "cell_type": "code",
   "execution_count": 51,
   "metadata": {},
   "outputs": [
    {
     "name": "stdout",
     "output_type": "stream",
     "text": [
      "                 R2 score  R2 gained                 Feature added\n",
      "Num of features                                                   \n",
      "1                0.114046   0.114046                        NumOfC\n",
      "2                0.627052   0.513006                NumHBondDonors\n",
      "3                0.647806   0.020755                     NumOfConf\n",
      "4                0.667918   0.020111               carboxylic acid\n",
      "5                0.673390   0.005472                    NumOfAtoms\n",
      "6                0.676669   0.003279                 hydroperoxide\n",
      "7                0.686032   0.009363            carbonylperoxyacid\n",
      "8                0.693831   0.007799                      peroxide\n",
      "9                0.693304  -0.000527              hydroxyl (alkyl)\n",
      "10               0.700344   0.007039                 NumOfConfUsed\n",
      "11               0.713450   0.013107                            MW\n",
      "12               0.720374   0.006923         carbonylperoxynitrate\n",
      "13               0.729345   0.008971                        ketone\n",
      "14               0.731206   0.001860                        NumOfO\n",
      "15               0.733347   0.002141             ether (alicyclic)\n",
      "16               0.736194   0.002847                 parentspecies\n",
      "17               0.739173   0.002979            C=C (non-aromatic)\n",
      "18               0.741492   0.002318                      aldehyde\n",
      "19               0.743473   0.001981                         ester\n",
      "20               0.744354   0.000881                       nitrate\n",
      "21               0.743882  -0.000472                        NumOfN\n",
      "22               0.743441  -0.000440                         nitro\n",
      "23               0.743052  -0.000390  C=C-C=O in non-aromatic ring\n",
      "24               0.742397  -0.000654                    nitroester\n",
      "25               0.742551   0.000154             aromatic hydroxyl\n"
     ]
    }
   ],
   "source": [
    "try:\n",
    "    with open('../pickles/svm_feature_selection_results.pickle', 'rb') as handle:\n",
    "        svm_feature_selection_results = pickle.load(handle)\n",
    "        svm_r2_scores = svm_feature_selection_results['r2_results']\n",
    "except:\n",
    "    svm_best_features, svm_r2_scores = select_only_important_features(svm_feature_importance_means, make_pipeline(StandardScaler(), SVR()), train_x, train_y)\n",
    "\n",
    "svm_feature_selection_df = pd.DataFrame({\n",
    "    'Num of features': np.arange(1,26),\n",
    "    'R2 score': svm_r2_scores,\n",
    "    'R2 gained': svm_r2_scores - shift(svm_r2_scores, 1),\n",
    "    'Feature added': svm_feature_importance_means.index\n",
    "    })\n",
    "svm_feature_selection_df = svm_feature_selection_df.set_index('Num of features')\n",
    "print(svm_feature_selection_df)"
   ]
  },
  {
   "cell_type": "code",
   "execution_count": 55,
   "metadata": {},
   "outputs": [
    {
     "data": {
      "image/png": "[encoded data removed]",
      "text/plain": [
       "<Figure size 640x480 with 1 Axes>"
      ]
     },
     "metadata": {},
     "output_type": "display_data"
    }
   ],
   "source": [
    "plt.plot(np.arange(1,26), svm_r2_scores)\n",
    "plt.xlabel('Number of features')\n",
    "plt.ylabel('R2')\n",
    "plt.title('R2 of SVR with n most important features')\n",
    "plt.show()"
   ]
  },
  {
   "cell_type": "code",
   "execution_count": 26,
   "metadata": {},
   "outputs": [
    {
     "name": "stdout",
     "output_type": "stream",
     "text": [
      "0.750569295610406\n"
     ]
    }
   ],
   "source": [
    "svm_pipe = make_pipeline(StandardScaler(), SVR(C=2.0, epsilon=0.2))\n",
    "dropped_features = ['nitrate', 'NumOfN', 'nitro', 'C=C-C=O in non-aromatic ring', 'nitroester', 'aromatic hydroxyl']\n",
    "svm_scores = cross_val_score(svm_pipe, train_x.loc[:, ~train_x.columns.isin(dropped_features)], train_y, cv=10, scoring='r2')\n",
    "print(np.mean(svm_scores))"
   ]
  },
  {
   "cell_type": "code",
   "execution_count": null,
   "metadata": {},
   "outputs": [],
   "source": [
    "svm_pipe = make_pipeline(StandardScaler(), SVR())\n",
    "\n",
    "try:\n",
    "    with open('../pickles/svm_feature_importances.pickle', 'rb') as handle:\n",
    "        svm_feature_importances = pickle.load(handle)\n",
    "except:\n",
    "    svm_feature_importances = permutation_importance(svm_pipe, train_x, train_y, n_repeats=10, random_state=0)\n",
    "\n",
    "svm_feature_importance_means = svm_feature_importances.importances_mean\n",
    "svm_feature_importance_means = pd.Series(svm_feature_importance_means, index=train_x.columns)\n",
    "svm_feature_importance_means = svm_feature_importance_means.sort_values(ascending=False)\n",
    "print(svm_feature_importance_means)"
   ]
  },
  {
   "cell_type": "markdown",
   "metadata": {},
   "source": [
    "### Gradient Boosting"
   ]
  },
  {
   "cell_type": "code",
   "execution_count": 7,
   "metadata": {},
   "outputs": [
    {
     "name": "stdout",
     "output_type": "stream",
     "text": [
      "NumHBondDonors                  0.602000\n",
      "NumOfC                          0.205928\n",
      "NumOfConf                       0.145684\n",
      "carbonylperoxynitrate           0.039451\n",
      "NumOfConfUsed                   0.036191\n",
      "peroxide                        0.030956\n",
      "carboxylic acid                 0.029877\n",
      "ketone                          0.020907\n",
      "hydroxyl (alkyl)                0.017233\n",
      "parentspecies                   0.015249\n",
      "NumOfO                          0.012145\n",
      "C=C (non-aromatic)              0.011101\n",
      "ether (alicyclic)               0.009709\n",
      "aldehyde                        0.009597\n",
      "carbonylperoxyacid              0.008306\n",
      "ester                           0.008162\n",
      "MW                              0.008031\n",
      "NumOfAtoms                      0.004993\n",
      "hydroperoxide                   0.004715\n",
      "NumOfN                          0.002293\n",
      "nitro                           0.001595\n",
      "nitrate                         0.000792\n",
      "C=C-C=O in non-aromatic ring    0.000735\n",
      "nitroester                      0.000429\n",
      "aromatic hydroxyl               0.000000\n",
      "dtype: float64\n"
     ]
    }
   ],
   "source": [
    "gb = HistGradientBoostingRegressor(categorical_features=['parentspecies'])\n",
    "gb.fit(train_x, train_y)\n",
    "\n",
    "try:\n",
    "    with open('../pickles/gb_feature_importances.pickle', 'rb') as handle:\n",
    "        gb_feature_importances = pickle.load(handle)\n",
    "except:\n",
    "    gb_feature_importances = permutation_importance(gb, train_x, train_y, n_repeats=30, random_state=0)\n",
    "\n",
    "gb_feature_importance_means = gb_feature_importances.importances_mean\n",
    "gb_feature_importance_means = pd.Series(gb_feature_importance_means, index=train_x.columns)\n",
    "gb_feature_importance_means = gb_feature_importance_means.sort_values(ascending=False)\n",
    "print(gb_feature_importance_means)"
   ]
  },
  {
   "cell_type": "code",
   "execution_count": 41,
   "metadata": {},
   "outputs": [
    {
     "name": "stdout",
     "output_type": "stream",
     "text": [
      "                 R2 score  R2 gained                 Feature added\n",
      "Num of features                                                   \n",
      "1                0.475046   0.475046                NumHBondDonors\n",
      "2                0.628100   0.153054                        NumOfC\n",
      "3                0.647914   0.019814                     NumOfConf\n",
      "4                0.673326   0.025412         carbonylperoxynitrate\n",
      "5                0.679595   0.006269                 NumOfConfUsed\n",
      "6                0.685369   0.005774                      peroxide\n",
      "7                0.699489   0.014120               carboxylic acid\n",
      "8                0.708239   0.008750                        ketone\n",
      "9                0.713926   0.005687              hydroxyl (alkyl)\n",
      "10               0.723280   0.009354                 parentspecies\n",
      "11               0.728090   0.004811                        NumOfO\n",
      "12               0.731673   0.003583            C=C (non-aromatic)\n",
      "13               0.732564   0.000891             ether (alicyclic)\n",
      "14               0.736114   0.003550                      aldehyde\n",
      "15               0.738960   0.002847            carbonylperoxyacid\n",
      "16               0.740441   0.001481                         ester\n",
      "17               0.740187  -0.000254                            MW\n",
      "18               0.740335   0.000147                    NumOfAtoms\n",
      "19               0.740769   0.000434                 hydroperoxide\n",
      "20               0.740632  -0.000137                        NumOfN\n",
      "21               0.739837  -0.000795                         nitro\n",
      "22               0.740866   0.001029                       nitrate\n",
      "23               0.741033   0.000167  C=C-C=O in non-aromatic ring\n",
      "24               0.740164  -0.000869                    nitroester\n",
      "25               0.740957   0.000793             aromatic hydroxyl\n"
     ]
    }
   ],
   "source": [
    "try:\n",
    "    with open('../pickles/gb_feature_selection_results.pickle', 'rb') as handle:\n",
    "        gb_feature_selection_results = pickle.load(handle)\n",
    "        gb_r2_scores = gb_feature_selection_results['r2_results']\n",
    "except:\n",
    "    gb_best_features, gb_r2_scores = select_only_important_features(gb_feature_importance_means, HistGradientBoostingRegressor(), train_x, train_y)\n",
    "\n",
    "gb_feature_selection_df = pd.DataFrame({\n",
    "    'Num of features': np.arange(1,26),\n",
    "    'R2 score': gb_r2_scores,\n",
    "    'R2 gained': gb_r2_scores - shift(gb_r2_scores, 1),\n",
    "    'Feature added': gb_feature_importance_means.index\n",
    "    })\n",
    "gb_feature_selection_df = gb_feature_selection_df.set_index('Num of features')\n",
    "print(gb_feature_selection_df)"
   ]
  },
  {
   "cell_type": "code",
   "execution_count": 234,
   "metadata": {},
   "outputs": [
    {
     "name": "stdout",
     "output_type": "stream",
     "text": [
      "0.7502637061921038\n"
     ]
    }
   ],
   "source": [
    "feat = gb_feature_selection_df.sort_values('R2 gained', ascending=False).iloc[:19, :]['Feature added'].values\n",
    "gb = HistGradientBoostingRegressor(categorical_features=['parentspecies'],\n",
    "                              learning_rate=0.01, max_depth=8, max_features=0.1,\n",
    "                              max_iter=2000, max_leaf_nodes=60,\n",
    "                              min_samples_leaf=70)\n",
    "gb_scores = cross_val_score(gb, train_x.loc[:, feat], train_y, cv=10, scoring='r2')\n",
    "print(np.mean(gb_scores))"
   ]
  },
  {
   "cell_type": "code",
   "execution_count": 235,
   "metadata": {},
   "outputs": [],
   "source": [
    "# gb = HistGradientBoostingRegressor(categorical_features=['parentspecies'])\n",
    "gb.fit(train_x, train_y)\n",
    "test_x = test.loc[:, ~test.columns.isin(['ID'])]\n",
    "pred = gb.predict(test_x)\n",
    "df = pd.DataFrame({'ID': test['ID'], 'TARGET': pred})\n",
    "df = df.set_index('ID')\n",
    "df.to_csv('gb_submission.csv')"
   ]
  },
  {
   "cell_type": "code",
   "execution_count": 30,
   "metadata": {},
   "outputs": [
    {
     "name": "stdout",
     "output_type": "stream",
     "text": [
      "0.7438695983429076\n"
     ]
    }
   ],
   "source": [
    "feat = gb_feature_selection_df.sort_values('R2 gained', ascending=False).iloc[:19, :]['Feature added'].values\n",
    "gb = HistGradientBoostingRegressor(categorical_features=['parentspecies'])\n",
    "gb_scores = cross_val_score(gb, train_x.loc[:, gb_best_features], train_y, cv=10, scoring='r2')\n",
    "print(np.mean(gb_scores))"
   ]
  },
  {
   "cell_type": "code",
   "execution_count": 37,
   "metadata": {},
   "outputs": [
    {
     "name": "stdout",
     "output_type": "stream",
     "text": [
      "                 R2 score  R2 gained          Feature added\n",
      "Num of features                                            \n",
      "1                0.475119   0.475119         NumHBondDonors\n",
      "2                0.628003   0.152884                 NumOfC\n",
      "3                0.648569   0.020566  carbonylperoxynitrate\n",
      "4                0.673023   0.024453              NumOfConf\n",
      "5                0.688399   0.015376        carboxylic acid\n",
      "6                0.694977   0.006578                 ketone\n",
      "7                0.706046   0.011069          parentspecies\n",
      "8                0.710191   0.004145               peroxide\n",
      "9                0.716780   0.006590       hydroxyl (alkyl)\n",
      "10               0.724129   0.007348          NumOfConfUsed\n",
      "11               0.728679   0.004551                 NumOfO\n",
      "12               0.728939   0.000260      ether (alicyclic)\n",
      "13               0.732644   0.003704                  ester\n",
      "14               0.733670   0.001026     carbonylperoxyacid\n",
      "15               0.737890   0.004220     C=C (non-aromatic)\n",
      "16               0.741792   0.003902               aldehyde\n",
      "17               0.741316  -0.000476             nitroester\n",
      "18               0.741323   0.000007                  nitro\n",
      "19               0.741291  -0.000032             NumOfAtoms\n"
     ]
    }
   ],
   "source": [
    "gb_feature_importance = gb_feature_selection_df.sort_values('R2 gained', ascending=False).iloc[:19, :]\n",
    "gb_feature_importance = gb_feature_importance.set_index('Feature added')\n",
    "gb_best_features, gb_r2_scores = select_only_important_features(gb_feature_importance, HistGradientBoostingRegressor(), train_x, train_y)\n",
    "\n",
    "gb_feature_selection_df = pd.DataFrame({\n",
    "    'Num of features': np.arange(1,20),\n",
    "    'R2 score': gb_r2_scores,\n",
    "    'R2 gained': gb_r2_scores - shift(gb_r2_scores, 1),\n",
    "    'Feature added': gb_feature_importance.index\n",
    "    })\n",
    "gb_feature_selection_df = gb_feature_selection_df.set_index('Num of features')\n",
    "print(gb_feature_selection_df)"
   ]
  },
  {
   "cell_type": "code",
   "execution_count": 40,
   "metadata": {},
   "outputs": [
    {
     "name": "stdout",
     "output_type": "stream",
     "text": [
      "0.743680131787265\n"
     ]
    }
   ],
   "source": [
    "feat = gb_feature_selection_df.sort_values('R2 gained', ascending=False).iloc[:15, :]['Feature added'].values\n",
    "gb = HistGradientBoostingRegressor(categorical_features=['parentspecies'])\n",
    "gb_scores = cross_val_score(gb, train_x.loc[:, gb_best_features], train_y, cv=10, scoring='r2')\n",
    "print(np.mean(gb_scores))"
   ]
  },
  {
   "cell_type": "code",
   "execution_count": 20,
   "metadata": {},
   "outputs": [],
   "source": [
    "train_data = lgb.Dataset(train_x, label=train_y, categorical_feature=['parentspecies'])"
   ]
  },
  {
   "cell_type": "code",
   "execution_count": 24,
   "metadata": {},
   "outputs": [
    {
     "name": "stderr",
     "output_type": "stream",
     "text": [
      "/home/okko/anaconda3/envs/mlops_eng/lib/python3.11/site-packages/lightgbm/engine.py:674: UserWarning: Found 'num_iterations' in params. Will use it instead of 'num_boost_round' argument\n",
      "  _log_warning(f\"Found '{alias}' in params. Will use it instead of 'num_boost_round' argument\")\n"
     ]
    },
    {
     "name": "stdout",
     "output_type": "stream",
     "text": [
      "[LightGBM] [Warning] Found whitespace in feature_names, replace with underlines\n",
      "[LightGBM] [Warning] Auto-choosing row-wise multi-threading, the overhead of testing was 0.000807 seconds.\n",
      "You can set `force_row_wise=true` to remove the overhead.\n",
      "And if memory is not enough, you can set `force_col_wise=true`.\n",
      "[LightGBM] [Info] Total Bins 670\n",
      "[LightGBM] [Info] Number of data points in the train set: 23778, number of used features: 24\n",
      "[LightGBM] [Warning] Auto-choosing row-wise multi-threading, the overhead of testing was 0.133333 seconds.\n",
      "You can set `force_row_wise=true` to remove the overhead.\n",
      "And if memory is not enough, you can set `force_col_wise=true`.\n",
      "[LightGBM] [Info] Total Bins 670\n",
      "[LightGBM] [Info] Number of data points in the train set: 23778, number of used features: 24\n",
      "[LightGBM] [Warning] Auto-choosing row-wise multi-threading, the overhead of testing was 0.158492 seconds.\n",
      "You can set `force_row_wise=true` to remove the overhead.\n",
      "And if memory is not enough, you can set `force_col_wise=true`.\n",
      "[LightGBM] [Info] Total Bins 670\n",
      "[LightGBM] [Info] Number of data points in the train set: 23778, number of used features: 24\n",
      "[LightGBM] [Warning] Auto-choosing row-wise multi-threading, the overhead of testing was 0.175965 seconds.\n",
      "You can set `force_row_wise=true` to remove the overhead.\n",
      "And if memory is not enough, you can set `force_col_wise=true`.\n",
      "[LightGBM] [Info] Total Bins 670\n",
      "[LightGBM] [Info] Number of data points in the train set: 23778, number of used features: 24\n",
      "[LightGBM] [Warning] Auto-choosing row-wise multi-threading, the overhead of testing was 0.192014 seconds.\n",
      "You can set `force_row_wise=true` to remove the overhead.\n",
      "And if memory is not enough, you can set `force_col_wise=true`.\n",
      "[LightGBM] [Info] Total Bins 670\n",
      "[LightGBM] [Info] Number of data points in the train set: 23778, number of used features: 24\n",
      "[LightGBM] [Warning] Auto-choosing row-wise multi-threading, the overhead of testing was 0.197776 seconds.\n",
      "You can set `force_row_wise=true` to remove the overhead.\n",
      "And if memory is not enough, you can set `force_col_wise=true`.\n",
      "[LightGBM] [Info] Total Bins 670\n",
      "[LightGBM] [Info] Number of data points in the train set: 23778, number of used features: 24\n",
      "[LightGBM] [Warning] Auto-choosing row-wise multi-threading, the overhead of testing was 0.180550 seconds.\n",
      "You can set `force_row_wise=true` to remove the overhead.\n",
      "And if memory is not enough, you can set `force_col_wise=true`.\n",
      "[LightGBM] [Info] Total Bins 670\n",
      "[LightGBM] [Info] Number of data points in the train set: 23778, number of used features: 24\n",
      "[LightGBM] [Warning] Auto-choosing row-wise multi-threading, the overhead of testing was 0.155328 seconds.\n",
      "You can set `force_row_wise=true` to remove the overhead.\n",
      "And if memory is not enough, you can set `force_col_wise=true`.\n",
      "[LightGBM] [Info] Total Bins 670\n",
      "[LightGBM] [Info] Number of data points in the train set: 23778, number of used features: 24\n",
      "[LightGBM] [Warning] Auto-choosing row-wise multi-threading, the overhead of testing was 0.165990 seconds.\n",
      "You can set `force_row_wise=true` to remove the overhead.\n",
      "And if memory is not enough, you can set `force_col_wise=true`.\n",
      "[LightGBM] [Info] Total Bins 670\n",
      "[LightGBM] [Info] Number of data points in the train set: 23778, number of used features: 24\n",
      "[LightGBM] [Warning] Auto-choosing row-wise multi-threading, the overhead of testing was 0.169950 seconds.\n",
      "You can set `force_row_wise=true` to remove the overhead.\n",
      "And if memory is not enough, you can set `force_col_wise=true`.\n",
      "[LightGBM] [Info] Total Bins 670\n",
      "[LightGBM] [Info] Number of data points in the train set: 23778, number of used features: 24\n",
      "[LightGBM] [Info] Start training from score -5.517240\n",
      "[LightGBM] [Info] Start training from score -5.515491\n",
      "[LightGBM] [Info] Start training from score -5.509405\n",
      "[LightGBM] [Info] Start training from score -5.511325\n",
      "[LightGBM] [Info] Start training from score -5.502613\n",
      "[LightGBM] [Info] Start training from score -5.509054\n",
      "[LightGBM] [Info] Start training from score -5.505236\n",
      "[LightGBM] [Info] Start training from score -5.513041\n",
      "[LightGBM] [Info] Start training from score -5.504017\n",
      "[LightGBM] [Info] Start training from score -5.511421\n"
     ]
    }
   ],
   "source": [
    "train_data = lgb.Dataset(train_x, label=train_y, categorical_feature=['parentspecies'])\n",
    "res = lgb.cv(params={'num_leaves': 7, 'learning_rate': 0.05, 'num_iterations': 1000, 'feature_fraction': 0.4}, train_set=train_data, nfold=10, stratified=False, return_cvbooster=True)"
   ]
  },
  {
   "cell_type": "code",
   "execution_count": 25,
   "metadata": {},
   "outputs": [
    {
     "name": "stdout",
     "output_type": "stream",
     "text": [
      "2.480877727619391\n"
     ]
    }
   ],
   "source": [
    "print(np.min(res['valid l2-mean']))"
   ]
  },
  {
   "cell_type": "code",
   "execution_count": null,
   "metadata": {},
   "outputs": [
    {
     "name": "stderr",
     "output_type": "stream",
     "text": [
      "[I 2024-12-05 14:34:18,042] A new study created in memory with name: no-name-fd160a63-7b5f-44b3-8adb-85667ece44bd\n",
      "feature_fraction, val_score: 2.554027:  14%|#4        | 1/7 [05:29<32:54, 329.09s/it][I 2024-12-05 14:39:47,141] Trial 0 finished with value: 2.5540267879224903 and parameters: {'feature_fraction': 0.4}. Best is trial 0 with value: 2.5540267879224903.\n",
      "feature_fraction, val_score: 2.554027:  29%|##8       | 2/7 [09:18<22:32, 270.58s/it][I 2024-12-05 14:43:36,756] Trial 1 finished with value: 2.573487040424211 and parameters: {'feature_fraction': 0.8999999999999999}. Best is trial 0 with value: 2.5540267879224903.\n",
      "feature_fraction, val_score: 2.554027:  43%|####2     | 3/7 [14:21<19:01, 285.40s/it][I 2024-12-05 14:48:39,794] Trial 2 finished with value: 2.557376804905212 and parameters: {'feature_fraction': 0.5}. Best is trial 0 with value: 2.5540267879224903.\n",
      "feature_fraction, val_score: 2.554027:  57%|#####7    | 4/7 [18:20<13:20, 266.83s/it][I 2024-12-05 14:52:38,145] Trial 3 finished with value: 2.5747247609435124 and parameters: {'feature_fraction': 0.6}. Best is trial 0 with value: 2.5540267879224903.\n",
      "feature_fraction, val_score: 2.554027:  71%|#######1  | 5/7 [22:05<08:23, 251.76s/it][I 2024-12-05 14:56:23,180] Trial 4 finished with value: 2.5661960434937603 and parameters: {'feature_fraction': 0.8}. Best is trial 0 with value: 2.5540267879224903.\n",
      "feature_fraction, val_score: 2.554027:  86%|########5 | 6/7 [25:32<03:56, 236.70s/it][I 2024-12-05 14:59:50,649] Trial 5 finished with value: 2.5651311285053477 and parameters: {'feature_fraction': 0.7}. Best is trial 0 with value: 2.5540267879224903.\n",
      "feature_fraction, val_score: 2.554027: 100%|##########| 7/7 [29:05<00:00, 228.89s/it][I 2024-12-05 15:03:23,468] Trial 6 finished with value: 2.5790223540747617 and parameters: {'feature_fraction': 1.0}. Best is trial 0 with value: 2.5540267879224903.\n",
      "feature_fraction, val_score: 2.554027: 100%|##########| 7/7 [29:05<00:00, 249.35s/it]\n",
      "num_leaves, val_score: 2.554027:   5%|5         | 1/20 [15:45<4:59:19, 945.25s/it][I 2024-12-05 15:19:08,721] Trial 7 finished with value: 2.936433760380142 and parameters: {'num_leaves': 249}. Best is trial 7 with value: 2.936433760380142.\n",
      "num_leaves, val_score: 2.554027:  10%|#         | 2/20 [31:15<4:40:51, 936.22s/it][I 2024-12-05 15:34:38,625] Trial 8 finished with value: 2.9334651017269575 and parameters: {'num_leaves': 246}. Best is trial 8 with value: 2.9334651017269575.\n",
      "num_leaves, val_score: 2.483372:  15%|#5        | 3/20 [34:16<2:47:37, 591.61s/it][I 2024-12-05 15:37:40,150] Trial 9 finished with value: 2.483371843379369 and parameters: {'num_leaves': 15}. Best is trial 9 with value: 2.483371843379369.\n",
      "num_leaves, val_score: 2.463592:  20%|##        | 4/20 [36:34<1:50:02, 412.64s/it][I 2024-12-05 15:39:58,434] Trial 10 finished with value: 2.4635920906425737 and parameters: {'num_leaves': 6}. Best is trial 10 with value: 2.4635920906425737.\n",
      "num_leaves, val_score: 2.459853:  25%|##5       | 5/20 [38:27<1:16:04, 304.27s/it][I 2024-12-05 15:41:50,554] Trial 11 finished with value: 2.4598533910754328 and parameters: {'num_leaves': 7}. Best is trial 11 with value: 2.4598533910754328.\n",
      "num_leaves, val_score: 2.459853:  30%|###       | 6/20 [40:32<56:47, 243.41s/it]  [I 2024-12-05 15:43:55,826] Trial 12 finished with value: 2.4813877364270955 and parameters: {'num_leaves': 4}. Best is trial 11 with value: 2.4598533910754328.\n",
      "num_leaves, val_score: 2.459853:  35%|###5      | 7/20 [47:00<1:03:01, 290.89s/it][I 2024-12-05 15:50:24,455] Trial 13 finished with value: 2.707092196385457 and parameters: {'num_leaves': 78}. Best is trial 11 with value: 2.4598533910754328.\n",
      "num_leaves, val_score: 2.459853:  40%|####      | 8/20 [52:24<1:00:14, 301.24s/it][I 2024-12-05 15:55:47,876] Trial 14 finished with value: 2.665579122968241 and parameters: {'num_leaves': 63}. Best is trial 11 with value: 2.4598533910754328.\n",
      "num_leaves, val_score: 2.459853:  45%|####5     | 9/20 [1:02:58<1:14:17, 405.19s/it][I 2024-12-05 16:06:21,624] Trial 15 finished with value: 2.8397982657373313 and parameters: {'num_leaves': 148}. Best is trial 11 with value: 2.4598533910754328.\n",
      "num_leaves, val_score: 2.459853:  50%|#####     | 10/20 [1:08:50<1:04:47, 388.75s/it][I 2024-12-05 16:12:13,552] Trial 16 finished with value: 2.6783419602935674 and parameters: {'num_leaves': 68}. Best is trial 11 with value: 2.4598533910754328.\n",
      "num_leaves, val_score: 2.459853:  55%|#####5    | 11/20 [1:18:50<1:08:00, 453.41s/it][I 2024-12-05 16:22:13,592] Trial 17 finished with value: 2.8397982657373317 and parameters: {'num_leaves': 148}. Best is trial 11 with value: 2.4598533910754328.\n",
      "num_leaves, val_score: 2.459853:  60%|######    | 12/20 [1:22:52<51:53, 389.25s/it]  [I 2024-12-05 16:26:16,084] Trial 18 finished with value: 2.5782039436520336 and parameters: {'num_leaves': 36}. Best is trial 11 with value: 2.4598533910754328.\n",
      "num_leaves, val_score: 2.459853:  65%|######5   | 13/20 [1:32:29<52:01, 445.98s/it][I 2024-12-05 16:35:52,596] Trial 19 finished with value: 2.7476093078591735 and parameters: {'num_leaves': 96}. Best is trial 11 with value: 2.4598533910754328.\n",
      "num_leaves, val_score: 2.459853:  70%|#######   | 14/20 [1:44:27<52:48, 528.11s/it][I 2024-12-05 16:47:50,482] Trial 20 finished with value: 2.785634175263514 and parameters: {'num_leaves': 115}. Best is trial 11 with value: 2.4598533910754328.\n",
      "num_leaves, val_score: 2.459853:  75%|#######5  | 15/20 [1:46:55<34:28, 413.60s/it][I 2024-12-05 16:50:18,720] Trial 21 finished with value: 2.6915600053405226 and parameters: {'num_leaves': 2}. Best is trial 11 with value: 2.4598533910754328.\n",
      "num_leaves, val_score: 2.459853:  80%|########  | 16/20 [1:51:41<25:01, 375.42s/it][I 2024-12-05 16:55:05,470] Trial 22 finished with value: 2.578328528201552 and parameters: {'num_leaves': 39}. Best is trial 11 with value: 2.4598533910754328.\n",
      "num_leaves, val_score: 2.459853:  85%|########5 | 17/20 [1:53:11<14:27, 289.31s/it][I 2024-12-05 16:56:34,524] Trial 23 finished with value: 2.6915600053405226 and parameters: {'num_leaves': 2}. Best is trial 11 with value: 2.4598533910754328.\n",
      "num_leaves, val_score: 2.459853:  90%|######### | 18/20 [1:58:34<09:59, 299.55s/it][I 2024-12-05 17:01:57,905] Trial 24 finished with value: 2.578203943652034 and parameters: {'num_leaves': 36}. Best is trial 11 with value: 2.4598533910754328.\n",
      "num_leaves, val_score: 2.459853:  95%|#########5| 19/20 [2:01:55<04:29, 269.95s/it][I 2024-12-05 17:05:18,902] Trial 25 finished with value: 2.529183655441437 and parameters: {'num_leaves': 26}. Best is trial 11 with value: 2.4598533910754328.\n",
      "num_leaves, val_score: 2.459853: 100%|##########| 20/20 [2:14:43<00:00, 419.60s/it][I 2024-12-05 17:18:07,294] Trial 26 finished with value: 2.9033846757349373 and parameters: {'num_leaves': 200}. Best is trial 11 with value: 2.4598533910754328.\n",
      "num_leaves, val_score: 2.459853: 100%|##########| 20/20 [2:14:43<00:00, 404.19s/it]\n",
      "bagging, val_score: 2.459853:  10%|#         | 1/10 [02:28<22:19, 148.86s/it][I 2024-12-05 17:20:36,154] Trial 27 finished with value: 2.4884792173326846 and parameters: {'bagging_fraction': 0.5427771263866441, 'bagging_freq': 6}. Best is trial 27 with value: 2.4884792173326846.\n",
      "bagging, val_score: 2.459853:  20%|##        | 2/10 [05:27<22:12, 166.62s/it][I 2024-12-05 17:23:35,211] Trial 28 finished with value: 2.460220024987275 and parameters: {'bagging_fraction': 0.9355216632857342, 'bagging_freq': 1}. Best is trial 28 with value: 2.460220024987275.\n",
      "bagging, val_score: 2.459853:  30%|###       | 3/10 [08:35<20:33, 176.23s/it][I 2024-12-05 17:26:42,875] Trial 29 finished with value: 2.460496869303649 and parameters: {'bagging_fraction': 0.9996215404624116, 'bagging_freq': 1}. Best is trial 28 with value: 2.460220024987275.\n",
      "bagging, val_score: 2.459853:  40%|####      | 4/10 [10:42<15:40, 156.77s/it][I 2024-12-05 17:28:49,826] Trial 30 finished with value: 2.465000392103723 and parameters: {'bagging_fraction': 0.9987492686870053, 'bagging_freq': 1}. Best is trial 28 with value: 2.460220024987275.\n",
      "bagging, val_score: 2.459824:  50%|#####     | 5/10 [12:32<11:40, 140.06s/it][I 2024-12-05 17:30:40,253] Trial 31 finished with value: 2.459824452393523 and parameters: {'bagging_fraction': 0.9964090887409454, 'bagging_freq': 1}. Best is trial 31 with value: 2.459824452393523.\n",
      "bagging, val_score: 2.459506:  60%|######    | 6/10 [15:03<09:34, 143.64s/it][I 2024-12-05 17:33:10,844] Trial 32 finished with value: 2.459505634705795 and parameters: {'bagging_fraction': 0.9891183964467268, 'bagging_freq': 1}. Best is trial 32 with value: 2.459505634705795.\n",
      "bagging, val_score: 2.459506:  70%|#######   | 7/10 [19:08<08:50, 176.76s/it][I 2024-12-05 17:37:15,789] Trial 33 finished with value: 2.4601490410716247 and parameters: {'bagging_fraction': 0.9658531375135071, 'bagging_freq': 1}. Best is trial 32 with value: 2.459505634705795.\n",
      "bagging, val_score: 2.459506:  80%|########  | 8/10 [22:17<06:01, 180.52s/it][I 2024-12-05 17:40:24,374] Trial 34 finished with value: 2.476329227238519 and parameters: {'bagging_fraction': 0.8340437116890955, 'bagging_freq': 3}. Best is trial 32 with value: 2.459505634705795.\n",
      "bagging, val_score: 2.459506:  90%|######### | 9/10 [24:52<02:52, 172.80s/it][I 2024-12-05 17:43:00,180] Trial 35 finished with value: 2.4772293883536043 and parameters: {'bagging_fraction': 0.8170878438080423, 'bagging_freq': 3}. Best is trial 32 with value: 2.459505634705795.\n",
      "bagging, val_score: 2.459506: 100%|##########| 10/10 [27:00<00:00, 158.74s/it][I 2024-12-05 17:45:07,450] Trial 36 finished with value: 2.4626222820404733 and parameters: {'bagging_fraction': 0.867149225367568, 'bagging_freq': 2}. Best is trial 32 with value: 2.459505634705795.\n",
      "bagging, val_score: 2.459506: 100%|##########| 10/10 [27:00<00:00, 162.02s/it]\n",
      "feature_fraction_stage2, val_score: 2.459506:  33%|###3      | 1/3 [02:51<05:42, 171.02s/it][I 2024-12-05 17:47:58,471] Trial 37 finished with value: 2.46179960484866 and parameters: {'feature_fraction': 0.48000000000000004}. Best is trial 37 with value: 2.46179960484866.\n",
      "feature_fraction_stage2, val_score: 2.459506:  67%|######6   | 2/3 [05:00<02:26, 146.84s/it][I 2024-12-05 17:50:08,393] Trial 38 finished with value: 2.462811728882797 and parameters: {'feature_fraction': 0.44800000000000006}. Best is trial 37 with value: 2.46179960484866.\n",
      "feature_fraction_stage2, val_score: 2.459506: 100%|##########| 3/3 [07:52<00:00, 158.01s/it][I 2024-12-05 17:52:59,681] Trial 39 finished with value: 2.459505634705795 and parameters: {'feature_fraction': 0.41600000000000004}. Best is trial 39 with value: 2.459505634705795.\n",
      "feature_fraction_stage2, val_score: 2.459506: 100%|##########| 3/3 [07:52<00:00, 157.41s/it]\n",
      "regularization_factors, val_score: 2.459506:   5%|5         | 1/20 [02:23<45:20, 143.19s/it][I 2024-12-05 17:55:22,876] Trial 40 finished with value: 2.4597136562061266 and parameters: {'lambda_l1': 2.632588282449715e-07, 'lambda_l2': 2.201534473021313e-06}. Best is trial 40 with value: 2.4597136562061266.\n",
      "regularization_factors, val_score: 2.459506:  10%|#         | 2/20 [04:07<36:00, 120.04s/it][I 2024-12-05 17:57:06,709] Trial 41 finished with value: 2.459713657247802 and parameters: {'lambda_l1': 1.3594302748242058e-07, 'lambda_l2': 7.829675971243202e-07}. Best is trial 40 with value: 2.4597136562061266.\n",
      "regularization_factors, val_score: 2.459506:  15%|#5        | 3/20 [06:18<35:27, 125.16s/it][I 2024-12-05 17:59:17,967] Trial 42 finished with value: 2.4597136572084684 and parameters: {'lambda_l1': 7.130674515130509e-08, 'lambda_l2': 9.142401056338798e-07}. Best is trial 40 with value: 2.4597136562061266.\n",
      "regularization_factors, val_score: 2.459506:  20%|##        | 4/20 [08:18<32:49, 123.10s/it][I 2024-12-05 18:01:17,916] Trial 43 finished with value: 2.4597136574219793 and parameters: {'lambda_l1': 8.452038037235948e-08, 'lambda_l2': 5.677214710661298e-07}. Best is trial 40 with value: 2.4597136562061266.\n",
      "regularization_factors, val_score: 2.459506:  25%|##5       | 5/20 [10:07<29:32, 118.20s/it][I 2024-12-05 18:03:07,417] Trial 44 finished with value: 2.4597136569876223 and parameters: {'lambda_l1': 8.071722747019748e-08, 'lambda_l2': 1.2325553639917649e-06}. Best is trial 40 with value: 2.4597136562061266.\n",
      "regularization_factors, val_score: 2.459506:  30%|###       | 6/20 [12:14<28:15, 121.14s/it][I 2024-12-05 18:05:14,254] Trial 45 finished with value: 2.459713655251943 and parameters: {'lambda_l1': 6.703816848360317e-08, 'lambda_l2': 3.88116049348302e-06}. Best is trial 45 with value: 2.459713655251943.\n",
      "regularization_factors, val_score: 2.459188:  35%|###5      | 7/20 [14:26<26:58, 124.53s/it][I 2024-12-05 18:07:25,786] Trial 46 finished with value: 2.4591884465665133 and parameters: {'lambda_l1': 1.1081359323669573e-06, 'lambda_l2': 0.00015864052521293064}. Best is trial 46 with value: 2.4591884465665133.\n",
      "regularization_factors, val_score: 2.459188:  40%|####      | 8/20 [16:06<23:23, 116.97s/it][I 2024-12-05 18:09:06,548] Trial 47 finished with value: 2.459852696386762 and parameters: {'lambda_l1': 0.0002570151667563165, 'lambda_l2': 0.004138985805269618}. Best is trial 46 with value: 2.4591884465665133.\n",
      "regularization_factors, val_score: 2.459188:  45%|####5     | 9/20 [18:00<21:13, 115.79s/it][I 2024-12-05 18:10:59,752] Trial 48 finished with value: 2.460069815957137 and parameters: {'lambda_l1': 5.78860262821452e-05, 'lambda_l2': 0.00016345733684712684}. Best is trial 46 with value: 2.4591884465665133.\n",
      "regularization_factors, val_score: 2.457097:  50%|#####     | 10/20 [20:16<20:21, 122.19s/it][I 2024-12-05 18:13:16,266] Trial 49 finished with value: 2.457097131222288 and parameters: {'lambda_l1': 1.0408393052003426e-05, 'lambda_l2': 6.499061398564813}. Best is trial 49 with value: 2.457097131222288.\n",
      "regularization_factors, val_score: 2.452291:  55%|#####5    | 11/20 [22:17<18:17, 121.90s/it][I 2024-12-05 18:15:17,513] Trial 50 finished with value: 2.4522910594041987 and parameters: {'lambda_l1': 1.1773413350103844e-05, 'lambda_l2': 9.606232319438039}. Best is trial 50 with value: 2.4522910594041987.\n",
      "regularization_factors, val_score: 2.452291:  60%|######    | 12/20 [24:22<16:20, 122.61s/it][I 2024-12-05 18:17:21,735] Trial 51 finished with value: 2.4570308273356907 and parameters: {'lambda_l1': 7.68868040714436e-06, 'lambda_l2': 8.291737373755682}. Best is trial 50 with value: 2.4522910594041987.\n",
      "regularization_factors, val_score: 2.452291:  65%|######5   | 13/20 [26:50<15:13, 130.43s/it][I 2024-12-05 18:19:50,178] Trial 52 finished with value: 2.4560369745175286 and parameters: {'lambda_l1': 1.3350938044267753e-05, 'lambda_l2': 4.656345708322012}. Best is trial 50 with value: 2.4522910594041987.\n",
      "regularization_factors, val_score: 2.452291:  70%|#######   | 14/20 [29:08<13:16, 132.78s/it][I 2024-12-05 18:22:08,392] Trial 53 finished with value: 2.454064820190725 and parameters: {'lambda_l1': 1.8337395061802127e-05, 'lambda_l2': 7.390106882429116}. Best is trial 50 with value: 2.4522910594041987.\n",
      "regularization_factors, val_score: 2.452291:  75%|#######5  | 15/20 [31:01<10:33, 126.70s/it][I 2024-12-05 18:24:01,000] Trial 54 finished with value: 2.4535277715192114 and parameters: {'lambda_l1': 9.856488300840028e-06, 'lambda_l2': 5.168414223236022}. Best is trial 50 with value: 2.4522910594041987.\n",
      "regularization_factors, val_score: 2.452291:  80%|########  | 16/20 [33:20<08:41, 130.42s/it][I 2024-12-05 18:26:20,068] Trial 55 finished with value: 2.4575114915218217 and parameters: {'lambda_l1': 1.852971421254164e-05, 'lambda_l2': 7.834986681249063}. Best is trial 50 with value: 2.4522910594041987.\n",
      "regularization_factors, val_score: 2.452291:  85%|########5 | 17/20 [35:31<06:31, 130.56s/it][I 2024-12-05 18:28:30,931] Trial 56 finished with value: 2.452496628511299 and parameters: {'lambda_l1': 7.334169564786888e-06, 'lambda_l2': 9.954824328102898}. Best is trial 50 with value: 2.4522910594041987.\n",
      "regularization_factors, val_score: 2.452291:  90%|######### | 18/20 [37:29<04:13, 126.90s/it][I 2024-12-05 18:30:29,306] Trial 57 finished with value: 2.462563120095889 and parameters: {'lambda_l1': 8.473000833342376e-06, 'lambda_l2': 0.580575853279548}. Best is trial 50 with value: 2.4522910594041987.\n",
      "regularization_factors, val_score: 2.452291:  95%|#########5| 19/20 [40:03<02:15, 135.15s/it][I 2024-12-05 18:33:03,678] Trial 58 finished with value: 2.4648795480159906 and parameters: {'lambda_l1': 0.08414151600924587, 'lambda_l2': 0.6530787921411689}. Best is trial 50 with value: 2.4522910594041987.\n",
      "regularization_factors, val_score: 2.452291: 100%|##########| 20/20 [42:01<00:00, 129.82s/it][I 2024-12-05 18:35:01,083] Trial 59 finished with value: 2.462845746196885 and parameters: {'lambda_l1': 2.8267769050492187e-06, 'lambda_l2': 0.9349833221223097}. Best is trial 50 with value: 2.4522910594041987.\n",
      "regularization_factors, val_score: 2.452291: 100%|##########| 20/20 [42:01<00:00, 126.07s/it]\n",
      "min_child_samples, val_score: 2.452291:  20%|##        | 1/5 [01:43<06:52, 103.03s/it][I 2024-12-05 18:36:44,115] Trial 60 finished with value: 2.4539770640686682 and parameters: {'min_child_samples': 10}. Best is trial 60 with value: 2.4539770640686682.\n",
      "min_child_samples, val_score: 2.452291:  40%|####      | 2/5 [04:17<06:40, 133.40s/it][I 2024-12-05 18:39:18,776] Trial 61 finished with value: 2.4541995052806156 and parameters: {'min_child_samples': 5}. Best is trial 60 with value: 2.4539770640686682.\n",
      "min_child_samples, val_score: 2.452291:  60%|######    | 3/5 [06:22<04:19, 129.52s/it][I 2024-12-05 18:41:23,673] Trial 62 finished with value: 2.45838741782772 and parameters: {'min_child_samples': 25}. Best is trial 60 with value: 2.4539770640686682.\n",
      "min_child_samples, val_score: 2.452291:  80%|########  | 4/5 [08:13<02:02, 122.09s/it][I 2024-12-05 18:43:14,368] Trial 63 finished with value: 2.4574142378331887 and parameters: {'min_child_samples': 100}. Best is trial 60 with value: 2.4539770640686682.\n",
      "min_child_samples, val_score: 2.452291: 100%|##########| 5/5 [10:28<00:00, 126.84s/it][I 2024-12-05 18:45:29,626] Trial 64 finished with value: 2.4572953953833347 and parameters: {'min_child_samples': 50}. Best is trial 60 with value: 2.4539770640686682.\n",
      "min_child_samples, val_score: 2.452291: 100%|##########| 5/5 [10:28<00:00, 125.71s/it]\n"
     ]
    }
   ],
   "source": [
    "from optuna.integration import LightGBMTunerCV\n",
    "train_data = lgb.Dataset(train_x, label=train_y, categorical_feature=['parentspecies'])\n",
    "params = {\n",
    "        \"objective\": \"regression\",\n",
    "        \"metric\": \"l2\",\n",
    "        \"verbosity\": -1,\n",
    "        \"boosting_type\": \"gbdt\",\n",
    "    }\n",
    "booster = LightGBMTunerCV(params, train_data, nfold=10, stratified=False)\n",
    "booster.run()"
   ]
  },
  {
   "cell_type": "code",
   "execution_count": 31,
   "metadata": {},
   "outputs": [
    {
     "name": "stdout",
     "output_type": "stream",
     "text": [
      "[1.e-02 1.e-01 1.e+00 1.e+01 1.e+02 1.e+03 1.e+04 1.e+05 1.e+06 1.e+07\n",
      " 1.e+08 1.e+09 1.e+10]\n"
     ]
    }
   ],
   "source": [
    "print(np.logspace(-2, 10, 13))"
   ]
  },
  {
   "cell_type": "code",
   "execution_count": null,
   "metadata": {},
   "outputs": [
    {
     "name": "stdout",
     "output_type": "stream",
     "text": [
      "MW                               0\n",
      "NumOfAtoms                       0\n",
      "NumOfC                           0\n",
      "NumOfO                           0\n",
      "NumOfN                           0\n",
      "NumHBondDonors                   0\n",
      "NumOfConf                        0\n",
      "NumOfConfUsed                    0\n",
      "parentspecies                   33\n",
      "C=C (non-aromatic)               0\n",
      "C=C-C=O in non-aromatic ring     0\n",
      "hydroxyl (alkyl)                 0\n",
      "aldehyde                         0\n",
      "ketone                           0\n",
      "carboxylic acid                  0\n",
      "ester                            0\n",
      "ether (alicyclic)                0\n",
      "nitrate                          0\n",
      "nitro                            0\n",
      "aromatic hydroxyl                0\n",
      "carbonylperoxynitrate            0\n",
      "peroxide                         0\n",
      "hydroperoxide                    0\n",
      "carbonylperoxyacid               0\n",
      "nitroester                       0\n",
      "dtype: int64\n"
     ]
    }
   ],
   "source": [
    "test_x = test.loc[:, ~test.columns.isin(['ID'])]\n",
    "svm_pipe = make_pipeline(StandardScaler(), SVR(C=2.0, epsilon=0.2))\n",
    "model = svm_pipe.fit(train_x, train_y)\n",
    "pred = model.predict(test_x)\n",
    "df = pd.DataFrame({'ID': test['ID'], 'TARGET': pred})\n",
    "df = df.set_index('ID')\n",
    "df.to_csv('gb_submission.csv')\n",
    "print(np.sum(test_x.isna(),axis=0))"
   ]
  },
  {
   "cell_type": "code",
   "execution_count": 260,
   "metadata": {},
   "outputs": [
    {
     "name": "stdout",
     "output_type": "stream",
     "text": [
      "0.8674429742895315\n"
     ]
    }
   ],
   "source": [
    "from sklearn.metrics import r2_score\n",
    "boosters = res['cvbooster'].boosters\n",
    "scores = []\n",
    "for b in boosters:\n",
    "    pred = b.predict(train_x)\n",
    "    scores.append(r2_score(train_y, pred))\n",
    "print(np.mean(scores))"
   ]
  },
  {
   "cell_type": "code",
   "execution_count": 252,
   "metadata": {},
   "outputs": [
    {
     "name": "stdout",
     "output_type": "stream",
     "text": [
      "[0.8089242320034553, 0.8076117619113642, 0.8088657840406828, 0.8073656752006784, 0.8058870799256922, 0.8071305066980403, 0.8082955182892191, 0.8086479251435378, 0.8085977849665151, 0.8084017798263294]\n"
     ]
    }
   ],
   "source": [
    "print(scores)"
   ]
  },
  {
   "cell_type": "code",
   "execution_count": 261,
   "metadata": {},
   "outputs": [],
   "source": [
    "test_x = test.loc[:, ~test.columns.isin(['ID'])]\n",
    "boosters = res['cvbooster'].boosters\n",
    "scores = []\n",
    "for b in boosters:\n",
    "    pred = b.predict(test_x)\n",
    "    scores.append(pred)\n",
    "df = pd.DataFrame({'ID': test['ID'], 'TARGET': np.mean(scores, axis=0)})\n",
    "df = df.set_index('ID')\n",
    "df.to_csv('gb_submission.csv')"
   ]
  },
  {
   "cell_type": "code",
   "execution_count": null,
   "metadata": {},
   "outputs": [
    {
     "name": "stdout",
     "output_type": "stream",
     "text": [
      "(5000,)\n"
     ]
    }
   ],
   "source": []
  },
  {
   "cell_type": "markdown",
   "metadata": {},
   "source": [
    "## Pickle some stuff"
   ]
  },
  {
   "cell_type": "code",
   "execution_count": null,
   "metadata": {},
   "outputs": [],
   "source": [
    "with open('../pickles/svm_feature_importances.pickle', 'wb+') as handle:\n",
    "    pickle.dump(svm_feature_importances, handle, protocol=pickle.HIGHEST_PROTOCOL)"
   ]
  },
  {
   "cell_type": "code",
   "execution_count": 52,
   "metadata": {},
   "outputs": [],
   "source": [
    "with open('../pickles/svm_feature_selection_results.pickle', 'wb+') as handle:\n",
    "    pickle.dump({'r2_results': svm_r2_scores, 'best_features': svm_best_features}, handle, protocol=pickle.HIGHEST_PROTOCOL)"
   ]
  },
  {
   "cell_type": "code",
   "execution_count": null,
   "metadata": {},
   "outputs": [],
   "source": [
    "with open('../pickles/rf_feature_selection_results.pickle', 'wb+') as handle:\n",
    "    pickle.dump({'r2_results': rf_r2_scores, 'best_features': rf_best_features}, handle, protocol=pickle.HIGHEST_PROTOCOL)"
   ]
  }
 ],
 "metadata": {
  "kernelspec": {
   "display_name": "mlops_eng",
   "language": "python",
   "name": "python3"
  },
  "language_info": {
   "codemirror_mode": {
    "name": "ipython",
    "version": 3
   },
   "file_extension": ".py",
   "mimetype": "text/x-python",
   "name": "python",
   "nbconvert_exporter": "python",
   "pygments_lexer": "ipython3",
   "version": "3.11.7"
  }
 },
 "nbformat": 4,
 "nbformat_minor": 2
}
