{
 "cells": [
  {
   "cell_type": "code",
   "execution_count": 1,
   "metadata": {},
   "outputs": [],
   "source": [
    "import pandas as pd\n",
    "import numpy as np\n",
    "from sklearn.ensemble import RandomForestRegressor\n",
    "from sklearn.svm import SVR\n",
    "from sklearn.pipeline import make_pipeline\n",
    "from sklearn.preprocessing import StandardScaler\n",
    "from sklearn.model_selection import cross_val_score, cross_validate\n",
    "from sklearn.ensemble import HistGradientBoostingRegressor\n",
    "from sklearn.dummy import DummyRegressor\n",
    "import matplotlib.pyplot as plt\n",
    "from sklearn.inspection import permutation_importance\n",
    "import pickle\n",
    "from scipy.ndimage import shift"
   ]
  },
  {
   "cell_type": "code",
   "execution_count": 2,
   "metadata": {},
   "outputs": [],
   "source": [
    "train = pd.read_csv(\"../../kaggle_data/train.csv\")\n",
    "test = pd.read_csv(\"../../kaggle_data/test.csv\")"
   ]
  },
  {
   "cell_type": "code",
   "execution_count": 3,
   "metadata": {},
   "outputs": [],
   "source": [
    "train = train.loc[np.all(train.notna(), axis=1), :]\n",
    "train = train.join(pd.get_dummies(train['parentspecies'], dtype=int))\n",
    "train = train.drop('parentspecies', axis=1)\n",
    "test.loc[test['parentspecies'].isna(), 'parentspecies'] = 'toluene'\n",
    "test = test.join(pd.get_dummies(test['parentspecies'], dtype=int))\n",
    "test = test.drop('parentspecies', axis=1)\n",
    "dropped_features = ['log_pSat_Pa', 'ID']\n",
    "train_x = train.loc[:, ~train.columns.isin(dropped_features)]\n",
    "train_y = train['log_pSat_Pa']\n",
    "test_x = test.loc[:, ~test.columns.isin(dropped_features)]\n",
    "test_x.loc[:, 'decane_toluene'] = 0"
   ]
  },
  {
   "cell_type": "markdown",
   "metadata": {},
   "source": [
    "## Default model scores"
   ]
  },
  {
   "cell_type": "code",
   "execution_count": 8,
   "metadata": {},
   "outputs": [],
   "source": [
    "dummy = DummyRegressor(strategy='mean')\n",
    "dummy_scores = cross_val_score(dummy, train_x, train_y, cv=10, scoring='r2')"
   ]
  },
  {
   "cell_type": "code",
   "execution_count": 12,
   "metadata": {},
   "outputs": [],
   "source": [
    "rf = RandomForestRegressor()\n",
    "rf_scores = cross_val_score(rf, train_x, train_y, cv=10, scoring='r2')"
   ]
  },
  {
   "cell_type": "code",
   "execution_count": 13,
   "metadata": {},
   "outputs": [],
   "source": [
    "svm_pipe = make_pipeline(StandardScaler(), SVR())\n",
    "svm_scores = cross_val_score(svm_pipe, train_x, train_y, cv=10, scoring='r2')"
   ]
  },
  {
   "cell_type": "code",
   "execution_count": null,
   "metadata": {},
   "outputs": [
    {
     "name": "stdout",
     "output_type": "stream",
     "text": [
      "0.7443802749508285\n"
     ]
    }
   ],
   "source": [
    "gb = HistGradientBoostingRegressor()\n",
    "gb_scores = cross_val_score(gb, train_x, train_y, cv=10, scoring='r2')"
   ]
  },
  {
   "cell_type": "code",
   "execution_count": 29,
   "metadata": {},
   "outputs": [
    {
     "name": "stdout",
     "output_type": "stream",
     "text": [
      "       Models    Scores\n",
      "0       dummy -0.000264\n",
      "1          RF  0.717607\n",
      "2         SVR  0.746615\n",
      "3          GB  0.743940\n",
      "4  SVR_linear  0.704179\n",
      "5  SVR_Poly_4  0.634562\n"
     ]
    }
   ],
   "source": [
    "models = ['dummy', 'RF', 'SVR', 'GB', 'SVR_linear', 'SVR_Poly_4']\n",
    "scores = [np.mean(dummy_scores), np.mean(rf_scores), np.mean(svm_scores), np.mean(gb_scores), np.mean(svm_linear_scores), np.mean(svm_poly_scores_dg4)]\n",
    "score_df = pd.DataFrame({'Models': models, 'Scores': scores})\n",
    "print(score_df)"
   ]
  },
  {
   "cell_type": "code",
   "execution_count": null,
   "metadata": {},
   "outputs": [],
   "source": [
    "train_pol = train_x.copy()\n",
    "\n",
    "for column in train_pol.columns:\n",
    "    if column != 'log_pSat_Pa':\n",
    "        try:\n",
    "            train_pol[column] = train_pol[column] ** 2\n",
    "        except (ValueError, AttributeError):\n",
    "            pass\n"
   ]
  },
  {
   "cell_type": "markdown",
   "metadata": {},
   "source": [
    "## Feature selection"
   ]
  },
  {
   "cell_type": "code",
   "execution_count": 10,
   "metadata": {},
   "outputs": [],
   "source": [
    "def feature_selection_forward_stepwise(\n",
    "    model,\n",
    "    X_train: pd.DataFrame,\n",
    "    y_train: pd.DataFrame | np.ndarray,\n",
    "):\n",
    "    features = X_train.columns.values\n",
    "    fitted_features = []\n",
    "    fitted_features_stepwise = []\n",
    "    best_r2_score = 0\n",
    "    mse_score = 0\n",
    "    best_feature = None\n",
    "    r2_scores = []\n",
    "    mse_scores = []\n",
    "    \n",
    "    while features.size:\n",
    "        for f in features:\n",
    "            scores = cross_validate(model, X_train.loc[:, np.concatenate([fitted_features, [f]])], y_train, cv=2, scoring=['r2', 'neg_mean_squared_error'])\n",
    "            if np.mean(scores['test_r2']) > best_r2_score:\n",
    "                best_feature = f\n",
    "                best_r2_score = np.mean(scores['test_r2'])\n",
    "                mse_score = np.mean(scores['test_neg_mean_squared_error'])\n",
    "\n",
    "        fitted_features.append(best_feature)\n",
    "        features = features[~np.isin(features, fitted_features)]\n",
    "        r2_scores.append(best_r2_score)\n",
    "        mse_scores.append(mse_score)       \n",
    "        best_r2_score = 0\n",
    "        mse_score = 0\n",
    "        best_feature = None\n",
    "        fitted_features_stepwise.append(list(fitted_features))\n",
    "    \n",
    "    return {'fitted_features': fitted_features_stepwise, 'r2_scores': r2_scores, 'mse_scores': mse_scores}\n",
    "        "
   ]
  },
  {
   "cell_type": "code",
   "execution_count": 32,
   "metadata": {},
   "outputs": [],
   "source": [
    "def feature_selection_importance(\n",
    "    feature_importances: pd.Series,\n",
    "    rfr_model,\n",
    "    X_train: pd.DataFrame,\n",
    "    y_train: pd.DataFrame | np.ndarray,\n",
    "):\n",
    "    r2_scores = []\n",
    "    mse_scores = []\n",
    "    \n",
    "    for i in range(0, feature_importances.shape[0]):\n",
    "        features = feature_importances.index[0:i+1].to_list()\n",
    "        model = rfr_model.fit(X_train.loc[:, features], y_train)\n",
    "        scores = cross_validate(model, X_train.loc[:, features], y_train, cv=3, scoring=['r2', 'neg_mean_squared_error'])\n",
    "        r2_scores.append(np.mean(scores['test_r2']))\n",
    "        mse_scores.append(np.mean(scores['test_neg_mean_squared_error']))\n",
    "\n",
    "    return r2_scores, mse_scores"
   ]
  },
  {
   "cell_type": "code",
   "execution_count": 15,
   "metadata": {},
   "outputs": [],
   "source": [
    "def get_feature_selection_result_df(res):\n",
    "    r2_scores = res['r2_scores']\n",
    "    mse_scores = res['mse_scores']\n",
    "    added_feature = res['added_feature']\n",
    "\n",
    "    feature_selection_results = pd.DataFrame({\n",
    "    'Num of features': np.arange(1,32),\n",
    "    'R2 score': r2_scores,\n",
    "    'R2 changed': r2_scores - shift(r2_scores, 1),\n",
    "    'MSE score': -np.array(mse_scores),\n",
    "    'MSE changed': -np.array(mse_scores) - shift(-np.array(mse_scores), 1),\n",
    "    'Feature added': added_feature\n",
    "    })\n",
    "\n",
    "    return feature_selection_results"
   ]
  },
  {
   "cell_type": "markdown",
   "metadata": {},
   "source": [
    "### Random Forest"
   ]
  },
  {
   "cell_type": "code",
   "execution_count": 23,
   "metadata": {},
   "outputs": [
    {
     "name": "stdout",
     "output_type": "stream",
     "text": [
      "NumHBondDonors                  4.717638e-01\n",
      "NumOfC                          1.198431e-01\n",
      "NumOfConf                       1.125884e-01\n",
      "NumOfConfUsed                   5.498941e-02\n",
      "NumOfAtoms                      5.232655e-02\n",
      "MW                              2.503232e-02\n",
      "hydroxyl (alkyl)                2.059245e-02\n",
      "carbonylperoxynitrate           1.938528e-02\n",
      "ketone                          1.719049e-02\n",
      "carboxylic acid                 1.584278e-02\n",
      "NumOfO                          1.375721e-02\n",
      "aldehyde                        1.259203e-02\n",
      "peroxide                        8.653670e-03\n",
      "hydroperoxide                   8.432166e-03\n",
      "carbonylperoxyacid              7.986322e-03\n",
      "ester                           6.982390e-03\n",
      "C=C (non-aromatic)              6.904886e-03\n",
      "nitrate                         5.219008e-03\n",
      "ether (alicyclic)               5.035097e-03\n",
      "nitro                           4.283469e-03\n",
      "NumOfN                          2.609595e-03\n",
      "apin                            2.390456e-03\n",
      "decane                          2.190106e-03\n",
      "toluene                         1.478855e-03\n",
      "nitroester                      8.872490e-04\n",
      "C=C-C=O in non-aromatic ring    8.019442e-04\n",
      "apin_toluene                    1.306692e-04\n",
      "aromatic hydroxyl               5.085808e-05\n",
      "apin_decane                     4.398732e-05\n",
      "apin_decane_toluene             1.495511e-05\n",
      "decane_toluene                  4.331429e-07\n",
      "dtype: float64\n"
     ]
    }
   ],
   "source": [
    "rf = RandomForestRegressor()\n",
    "rf_fit = rf.fit(train_x, train_y)\n",
    "rf_feature_importances = pd.Series(rf_fit.feature_importances_, index=train_x.columns)\n",
    "rf_feature_importances = rf_feature_importances.sort_values(ascending=False)\n",
    "print(rf_feature_importances)"
   ]
  },
  {
   "cell_type": "code",
   "execution_count": 35,
   "metadata": {},
   "outputs": [
    {
     "name": "stdout",
     "output_type": "stream",
     "text": [
      "    Num of features  R2 score  R2 changed  MSE score  MSE changed  \\\n",
      "0                 1  0.475095    0.475095   5.118038     5.118038   \n",
      "1                 2  0.628553    0.153459   3.621746    -1.496291   \n",
      "2                 3  0.543631   -0.084922   4.449853     0.828106   \n",
      "3                 4  0.562041    0.018410   4.270527    -0.179325   \n",
      "4                 5  0.607949    0.045909   3.823076    -0.447451   \n",
      "5                 6  0.632016    0.024067   3.588535    -0.234541   \n",
      "6                 7  0.662422    0.030406   3.291775    -0.296760   \n",
      "7                 8  0.672152    0.009730   3.196825    -0.094950   \n",
      "8                 9  0.685199    0.013047   3.069630    -0.127195   \n",
      "9                10  0.692731    0.007532   2.996277    -0.073353   \n",
      "10               11  0.693399    0.000667   2.989763    -0.006514   \n",
      "11               12  0.694852    0.001453   2.975504    -0.014259   \n",
      "12               13  0.701547    0.006695   2.910171    -0.065333   \n",
      "13               14  0.704043    0.002496   2.885894    -0.024277   \n",
      "14               15  0.703636   -0.000407   2.889863     0.003969   \n",
      "15               16  0.707346    0.003709   2.853777    -0.036086   \n",
      "16               17  0.709804    0.002458   2.829715    -0.024062   \n",
      "17               18  0.711027    0.001223   2.817818    -0.011897   \n",
      "18               19  0.712623    0.001596   2.802266    -0.015551   \n",
      "19               20  0.712535   -0.000088   2.803044     0.000777   \n",
      "20               21  0.712143   -0.000392   2.806779     0.003735   \n",
      "21               22  0.714586    0.002442   2.783081    -0.023697   \n",
      "22               23  0.714748    0.000162   2.781488    -0.001593   \n",
      "23               24  0.714784    0.000035   2.781130    -0.000358   \n",
      "24               25  0.715248    0.000465   2.776516    -0.004614   \n",
      "25               26  0.715333    0.000085   2.775705    -0.000811   \n",
      "26               27  0.715498    0.000165   2.774135    -0.001571   \n",
      "27               28  0.715392   -0.000107   2.775222     0.001087   \n",
      "28               29  0.715252   -0.000139   2.776547     0.001325   \n",
      "29               30  0.715815    0.000563   2.771068    -0.005479   \n",
      "30               31  0.714764   -0.001051   2.781324     0.010256   \n",
      "\n",
      "                   Feature added  \n",
      "0                 NumHBondDonors  \n",
      "1                         NumOfC  \n",
      "2                      NumOfConf  \n",
      "3                  NumOfConfUsed  \n",
      "4                     NumOfAtoms  \n",
      "5                             MW  \n",
      "6               hydroxyl (alkyl)  \n",
      "7          carbonylperoxynitrate  \n",
      "8                         ketone  \n",
      "9                carboxylic acid  \n",
      "10                        NumOfO  \n",
      "11                      aldehyde  \n",
      "12                      peroxide  \n",
      "13                 hydroperoxide  \n",
      "14            carbonylperoxyacid  \n",
      "15                         ester  \n",
      "16            C=C (non-aromatic)  \n",
      "17                       nitrate  \n",
      "18             ether (alicyclic)  \n",
      "19                         nitro  \n",
      "20                        NumOfN  \n",
      "21                          apin  \n",
      "22                        decane  \n",
      "23                       toluene  \n",
      "24                    nitroester  \n",
      "25  C=C-C=O in non-aromatic ring  \n",
      "26                  apin_toluene  \n",
      "27             aromatic hydroxyl  \n",
      "28                   apin_decane  \n",
      "29           apin_decane_toluene  \n",
      "30                decane_toluene  \n"
     ]
    }
   ],
   "source": [
    "try:\n",
    "    with open('../pickles/rf_feature_selection_results.pickle', 'rb') as handle:\n",
    "        rf_feature_selection_results = pickle.load(handle)\n",
    "        rf_r2_scores = rf_feature_selection_results['r2_scores']\n",
    "        rf_mse_scores = rf_feature_selection_results['mse_scores']\n",
    "except:\n",
    "    (rf_r2_scores, rf_mse_scores) = feature_selection_importance(rf_feature_importances, RandomForestRegressor(), train_x, train_y)\n",
    "\n",
    "rf_feature_selection_df = get_feature_selection_result_df({\n",
    "    'r2_scores': rf_r2_scores, 'mse_scores': rf_mse_scores, 'added_feature': rf_feature_importances.index})\n",
    "print(rf_feature_selection_df)"
   ]
  },
  {
   "cell_type": "code",
   "execution_count": 71,
   "metadata": {},
   "outputs": [
    {
     "data": {
      "image/png": "[encoded data removed]",
      "text/plain": [
       "<Figure size 640x480 with 1 Axes>"
      ]
     },
     "metadata": {},
     "output_type": "display_data"
    }
   ],
   "source": [
    "plt.plot(np.arange(1,32), rf_r2_scores)\n",
    "plt.xlabel('Number of features')\n",
    "plt.ylabel('R2')\n",
    "plt.title('R2 of RF with n most important features')\n",
    "plt.show()"
   ]
  },
  {
   "cell_type": "code",
   "execution_count": 31,
   "metadata": {},
   "outputs": [
    {
     "name": "stdout",
     "output_type": "stream",
     "text": [
      "    Num of features  R2 score  R2 changed  MSE score  MSE changed  \\\n",
      "0                 1  0.475214    0.475214   5.117586     5.117586   \n",
      "1                 2  0.631022    0.155808   3.598225    -1.519362   \n",
      "2                 3  0.647124    0.016102   3.441274    -0.156950   \n",
      "3                 4  0.652566    0.005442   3.388053    -0.053221   \n",
      "4                 5  0.661040    0.008474   3.305433    -0.082620   \n",
      "5                 6  0.666836    0.005796   3.248998    -0.056435   \n",
      "6                 7  0.671659    0.004824   3.201970    -0.047028   \n",
      "7                 8  0.673940    0.002280   3.179734    -0.022237   \n",
      "8                 9  0.674891    0.000951   3.170466    -0.009267   \n",
      "9                10  0.674383   -0.000507   3.175396     0.004930   \n",
      "10               11  0.675052    0.000669   3.168917    -0.006480   \n",
      "11               12  0.675285    0.000232   3.166625    -0.002292   \n",
      "12               13  0.675299    0.000015   3.166525    -0.000100   \n",
      "13               14  0.674882   -0.000417   3.170589     0.004064   \n",
      "14               15  0.675027    0.000145   3.169154    -0.001435   \n",
      "15               16  0.674577   -0.000450   3.173554     0.004401   \n",
      "16               17  0.674981    0.000404   3.169616    -0.003938   \n",
      "17               18  0.675120    0.000139   3.168237    -0.001379   \n",
      "18               19  0.673575   -0.001546   3.183362     0.015125   \n",
      "19               20  0.670947   -0.002627   3.208873     0.025511   \n",
      "20               21  0.669266   -0.001681   3.225273     0.016400   \n",
      "21               22  0.669256   -0.000010   3.225411     0.000138   \n",
      "22               23  0.665582   -0.003674   3.261295     0.035884   \n",
      "23               24  0.671014    0.005432   3.208296    -0.052999   \n",
      "24               25  0.688953    0.017939   3.033302    -0.174994   \n",
      "25               26  0.697540    0.008587   2.949575    -0.083727   \n",
      "26               27  0.703374    0.005834   2.892649    -0.056926   \n",
      "27               28  0.706827    0.003454   2.858917    -0.033732   \n",
      "28               29  0.708846    0.002018   2.839261    -0.019657   \n",
      "29               30  0.710103    0.001257   2.826976    -0.012284   \n",
      "30               31  0.709566   -0.000537   2.832247     0.005271   \n",
      "\n",
      "                   Feature added  \n",
      "0                 NumHBondDonors  \n",
      "1                             MW  \n",
      "2          carbonylperoxynitrate  \n",
      "3                carboxylic acid  \n",
      "4                     NumOfAtoms  \n",
      "5             C=C (non-aromatic)  \n",
      "6                         decane  \n",
      "7                         NumOfN  \n",
      "8   C=C-C=O in non-aromatic ring  \n",
      "9                           apin  \n",
      "10                        NumOfO  \n",
      "11           apin_decane_toluene  \n",
      "12             aromatic hydroxyl  \n",
      "13                decane_toluene  \n",
      "14                  apin_toluene  \n",
      "15                   apin_decane  \n",
      "16                       toluene  \n",
      "17                    nitroester  \n",
      "18                         ester  \n",
      "19                        NumOfC  \n",
      "20                         nitro  \n",
      "21                       nitrate  \n",
      "22            carbonylperoxyacid  \n",
      "23                     NumOfConf  \n",
      "24                 NumOfConfUsed  \n",
      "25                        ketone  \n",
      "26              hydroxyl (alkyl)  \n",
      "27                      peroxide  \n",
      "28             ether (alicyclic)  \n",
      "29                      aldehyde  \n",
      "30                 hydroperoxide  \n"
     ]
    }
   ],
   "source": [
    "try:\n",
    "    with open('../pickles/rf_forward_stepwise_feature_selection_results.pickle', 'rb') as handle:\n",
    "        res = pickle.load(handle)\n",
    "except:\n",
    "    res = feature_selection_forward_stepwise(RandomForestRegressor(), train_x, train_y)\n",
    "\n",
    "rf_fs_r2_scores = res['r2_scores']\n",
    "rf_fs_mse_scores = res['mse_scores']\n",
    "rf_fs_fitted_features = res['fitted_features']\n",
    "\n",
    "rf_forward_stepwise_result_df = get_feature_selection_result_df({\n",
    "    'r2_scores': rf_fs_r2_scores, 'mse_scores': rf_fs_mse_scores, 'added_feature': [x[len(x) - 1] for x in rf_fs_fitted_features]}) \n",
    "print(rf_forward_stepwise_result_df)"
   ]
  },
  {
   "cell_type": "markdown",
   "metadata": {},
   "source": [
    "### Support Vector Regression"
   ]
  },
  {
   "cell_type": "code",
   "execution_count": 21,
   "metadata": {},
   "outputs": [
    {
     "name": "stdout",
     "output_type": "stream",
     "text": [
      "NumOfC                          0.315979\n",
      "NumHBondDonors                  0.248728\n",
      "NumOfConf                       0.108924\n",
      "carboxylic acid                 0.099817\n",
      "hydroperoxide                   0.052929\n",
      "carbonylperoxyacid              0.043543\n",
      "peroxide                        0.039652\n",
      "NumOfAtoms                      0.037386\n",
      "hydroxyl (alkyl)                0.034224\n",
      "NumOfConfUsed                   0.028502\n",
      "carbonylperoxynitrate           0.027450\n",
      "ketone                          0.027021\n",
      "NumOfO                          0.026989\n",
      "MW                              0.025805\n",
      "C=C (non-aromatic)              0.018720\n",
      "ether (alicyclic)               0.017582\n",
      "aldehyde                        0.014066\n",
      "apin                            0.012137\n",
      "decane                          0.009644\n",
      "ester                           0.008706\n",
      "NumOfN                          0.007333\n",
      "nitrate                         0.006944\n",
      "nitro                           0.005804\n",
      "C=C-C=O in non-aromatic ring    0.004538\n",
      "toluene                         0.004420\n",
      "nitroester                      0.003981\n",
      "aromatic hydroxyl               0.001336\n",
      "apin_decane                     0.000835\n",
      "apin_toluene                    0.000809\n",
      "decane_toluene                  0.000018\n",
      "apin_decane_toluene            -0.000168\n",
      "dtype: float64\n"
     ]
    }
   ],
   "source": [
    "try:\n",
    "    with open('../pickles/svm_feature_importances.pickle', 'rb') as handle:\n",
    "        svm_feature_importances = pickle.load(handle)\n",
    "except:\n",
    "    svm_pipe = make_pipeline(StandardScaler(), SVR())\n",
    "    svm_pipe.fit(train_x, train_y)\n",
    "    svm_feature_importances = permutation_importance(svm_pipe, train_x, train_y, n_repeats=10, random_state=0)\n",
    "\n",
    "svm_feature_importance_means = svm_feature_importances.importances_mean\n",
    "svm_feature_importance_means = pd.Series(svm_feature_importance_means, index=train_x.columns)\n",
    "svm_feature_importance_means = svm_feature_importance_means.sort_values(ascending=False)\n",
    "print(svm_feature_importance_means)"
   ]
  },
  {
   "cell_type": "code",
   "execution_count": 22,
   "metadata": {},
   "outputs": [
    {
     "name": "stdout",
     "output_type": "stream",
     "text": [
      "    Num of features  R2 score  R2 changed  MSE score  MSE changed  \\\n",
      "0                 1  0.114046    0.114046   8.639634     8.639634   \n",
      "1                 2  0.627052    0.513006   3.636430    -5.003205   \n",
      "2                 3  0.647806    0.020755   3.434112    -0.202318   \n",
      "3                 4  0.667918    0.020111   3.238054    -0.196058   \n",
      "4                 5  0.671564    0.003647   3.202544    -0.035510   \n",
      "5                 6  0.680302    0.008737   3.117332    -0.085212   \n",
      "6                 7  0.686329    0.006027   3.058489    -0.058843   \n",
      "7                 8  0.693831    0.007502   2.985432    -0.073057   \n",
      "8                 9  0.693304   -0.000527   2.990596     0.005164   \n",
      "9                10  0.700344    0.007039   2.921899    -0.068698   \n",
      "10               11  0.710873    0.010530   2.819248    -0.102651   \n",
      "11               12  0.719707    0.008834   2.733093    -0.086155   \n",
      "12               13  0.730567    0.010860   2.627275    -0.105818   \n",
      "13               14  0.731206    0.000638   2.621064    -0.006211   \n",
      "14               15  0.732586    0.001380   2.607537    -0.013527   \n",
      "15               16  0.736177    0.003591   2.572433    -0.035104   \n",
      "16               17  0.738577    0.002400   2.549051    -0.023381   \n",
      "17               18  0.742661    0.004083   2.509230    -0.039822   \n",
      "18               19  0.742913    0.000252   2.506772    -0.002457   \n",
      "19               20  0.744661    0.001748   2.489714    -0.017058   \n",
      "20               21  0.744622   -0.000039   2.490096     0.000382   \n",
      "21               22  0.744986    0.000364   2.486536    -0.003560   \n",
      "22               23  0.744630   -0.000356   2.490020     0.003484   \n",
      "23               24  0.744360   -0.000270   2.492647     0.002628   \n",
      "24               25  0.744326   -0.000034   2.492986     0.000339   \n",
      "25               26  0.743696   -0.000630   2.499130     0.006144   \n",
      "26               27  0.743793    0.000097   2.498208    -0.000922   \n",
      "27               28  0.743216   -0.000577   2.503818     0.005610   \n",
      "28               29  0.742782   -0.000434   2.508062     0.004244   \n",
      "29               30  0.742823    0.000042   2.507653    -0.000408   \n",
      "30               31  0.741746   -0.001077   2.518134     0.010481   \n",
      "\n",
      "                   Feature added  \n",
      "0                         NumOfC  \n",
      "1                 NumHBondDonors  \n",
      "2                      NumOfConf  \n",
      "3                carboxylic acid  \n",
      "4                  hydroperoxide  \n",
      "5             carbonylperoxyacid  \n",
      "6                       peroxide  \n",
      "7                     NumOfAtoms  \n",
      "8               hydroxyl (alkyl)  \n",
      "9                  NumOfConfUsed  \n",
      "10         carbonylperoxynitrate  \n",
      "11                        ketone  \n",
      "12                        NumOfO  \n",
      "13                            MW  \n",
      "14            C=C (non-aromatic)  \n",
      "15             ether (alicyclic)  \n",
      "16                      aldehyde  \n",
      "17                          apin  \n",
      "18                        decane  \n",
      "19                         ester  \n",
      "20                        NumOfN  \n",
      "21                       nitrate  \n",
      "22                         nitro  \n",
      "23  C=C-C=O in non-aromatic ring  \n",
      "24                       toluene  \n",
      "25                    nitroester  \n",
      "26             aromatic hydroxyl  \n",
      "27                   apin_decane  \n",
      "28                  apin_toluene  \n",
      "29                decane_toluene  \n",
      "30           apin_decane_toluene  \n"
     ]
    }
   ],
   "source": [
    "try:\n",
    "    with open('../pickles/svm_feature_selection_results.pickle', 'rb') as handle:\n",
    "        svm_feature_selection_results = pickle.load(handle)\n",
    "        svm_r2_scores = svm_feature_selection_results['r2_scores']\n",
    "        svm_mse_scores = svm_feature_selection_results['mse_scores']\n",
    "except:\n",
    "    (svm_r2_scores, svm_mse_scores) = feature_selection_importance(svm_feature_importance_means, make_pipeline(StandardScaler(), SVR()), train_x, train_y)\n",
    "\n",
    "svm_feature_selection_df = get_feature_selection_result_df({\n",
    "    'r2_scores': svm_r2_scores, 'mse_scores': svm_mse_scores, 'added_feature': svm_feature_importance_means.index})\n",
    "print(svm_feature_selection_df)"
   ]
  },
  {
   "cell_type": "code",
   "execution_count": 56,
   "metadata": {},
   "outputs": [
    {
     "data": {
      "image/png": "[encoded data removed]",
      "text/plain": [
       "<Figure size 640x480 with 1 Axes>"
      ]
     },
     "metadata": {},
     "output_type": "display_data"
    }
   ],
   "source": [
    "plt.plot(np.arange(1,32), svm_r2_scores)\n",
    "plt.xlabel('Number of features')\n",
    "plt.ylabel('R2')\n",
    "plt.title('R2 of SVR with n most important features')\n",
    "plt.show()"
   ]
  },
  {
   "cell_type": "code",
   "execution_count": 16,
   "metadata": {},
   "outputs": [
    {
     "name": "stdout",
     "output_type": "stream",
     "text": [
      "    Num of features  R2 score  R2 changed  MSE score  MSE changed  \\\n",
      "0                 1  0.475305    0.475305   5.116705     5.116705   \n",
      "1                 2  0.626821    0.151515   3.639071    -1.477635   \n",
      "2                 3  0.653222    0.026401   3.381688    -0.257382   \n",
      "3                 4  0.668501    0.015279   3.232705    -0.148983   \n",
      "4                 5  0.684542    0.016042   3.076329    -0.156376   \n",
      "5                 6  0.694098    0.009556   2.983178    -0.093151   \n",
      "6                 7  0.701392    0.007293   2.911987    -0.071190   \n",
      "7                 8  0.707706    0.006314   2.850404    -0.061583   \n",
      "8                 9  0.714695    0.006989   2.782269    -0.068135   \n",
      "9                10  0.720582    0.005887   2.724843    -0.057426   \n",
      "10               11  0.725982    0.005400   2.672234    -0.052610   \n",
      "11               12  0.730781    0.004799   2.625443    -0.046791   \n",
      "12               13  0.734570    0.003790   2.588441    -0.037002   \n",
      "13               14  0.736788    0.002218   2.566822    -0.021619   \n",
      "14               15  0.739505    0.002717   2.540320    -0.026501   \n",
      "15               16  0.741525    0.002020   2.520635    -0.019685   \n",
      "16               17  0.742154    0.000630   2.514521    -0.006114   \n",
      "17               18  0.742795    0.000640   2.508229    -0.006292   \n",
      "18               19  0.743211    0.000416   2.504177    -0.004052   \n",
      "19               20  0.743651    0.000441   2.499892    -0.004284   \n",
      "20               21  0.743928    0.000276   2.497207    -0.002685   \n",
      "21               22  0.744036    0.000108   2.496149    -0.001058   \n",
      "22               23  0.743791   -0.000245   2.498550     0.002401   \n",
      "23               24  0.743496   -0.000294   2.501426     0.002875   \n",
      "24               25  0.743091   -0.000405   2.505370     0.003944   \n",
      "25               26  0.742543   -0.000548   2.510699     0.005329   \n",
      "26               27  0.741908   -0.000636   2.516892     0.006193   \n",
      "27               28  0.741158   -0.000750   2.524196     0.007304   \n",
      "28               29  0.740417   -0.000741   2.531416     0.007220   \n",
      "29               30  0.739649   -0.000768   2.538908     0.007491   \n",
      "30               31  0.738567   -0.001082   2.549451     0.010543   \n",
      "\n",
      "                   Feature added  \n",
      "0                 NumHBondDonors  \n",
      "1                         NumOfC  \n",
      "2               hydroxyl (alkyl)  \n",
      "3                      NumOfConf  \n",
      "4          carbonylperoxynitrate  \n",
      "5                           apin  \n",
      "6                carboxylic acid  \n",
      "7                         NumOfO  \n",
      "8                         ketone  \n",
      "9                  NumOfConfUsed  \n",
      "10                      peroxide  \n",
      "11                      aldehyde  \n",
      "12            carbonylperoxyacid  \n",
      "13            C=C (non-aromatic)  \n",
      "14             ether (alicyclic)  \n",
      "15                         ester  \n",
      "16                         nitro  \n",
      "17                 hydroperoxide  \n",
      "18                    NumOfAtoms  \n",
      "19             aromatic hydroxyl  \n",
      "20                       toluene  \n",
      "21                decane_toluene  \n",
      "22                        decane  \n",
      "23                            MW  \n",
      "24  C=C-C=O in non-aromatic ring  \n",
      "25                  apin_toluene  \n",
      "26                   apin_decane  \n",
      "27                        NumOfN  \n",
      "28                    nitroester  \n",
      "29                       nitrate  \n",
      "30           apin_decane_toluene  \n"
     ]
    }
   ],
   "source": [
    "try:\n",
    "    with open('../pickles/svm_forward_stepwise_feature_selection_results.pickle', 'rb') as handle:\n",
    "        res = pickle.load(handle)\n",
    "except:\n",
    "    res = feature_selection_forward_stepwise(make_pipeline(StandardScaler(), SVR()), train_x, train_y)\n",
    "\n",
    "svm_fs_r2_scores = res['r2_scores']\n",
    "svm_fs_mse_scores = res['mse_scores']\n",
    "svm_fs_fitted_features = res['fitted_features']\n",
    "\n",
    "svm_forward_stepwise_result_df = get_feature_selection_result_df({\n",
    "    'r2_scores': svm_fs_r2_scores, 'mse_scores': svm_fs_mse_scores, 'added_feature': [x[len(x) - 1] for x in svm_fs_fitted_features]}) \n",
    "print(svm_forward_stepwise_result_df)"
   ]
  },
  {
   "cell_type": "markdown",
   "metadata": {},
   "source": [
    "### Gradient Boosting"
   ]
  },
  {
   "cell_type": "code",
   "execution_count": 18,
   "metadata": {},
   "outputs": [
    {
     "name": "stdout",
     "output_type": "stream",
     "text": [
      "NumHBondDonors                  0.579891\n",
      "NumOfC                          0.194672\n",
      "NumOfConf                       0.146375\n",
      "carbonylperoxynitrate           0.043520\n",
      "NumOfConfUsed                   0.035205\n",
      "carboxylic acid                 0.031621\n",
      "peroxide                        0.028846\n",
      "ketone                          0.019975\n",
      "hydroxyl (alkyl)                0.016425\n",
      "C=C (non-aromatic)              0.011693\n",
      "NumOfO                          0.011649\n",
      "aldehyde                        0.009638\n",
      "ether (alicyclic)               0.009624\n",
      "NumOfAtoms                      0.008656\n",
      "ester                           0.007764\n",
      "carbonylperoxyacid              0.007314\n",
      "MW                              0.007097\n",
      "apin                            0.005561\n",
      "decane                          0.005146\n",
      "hydroperoxide                   0.005018\n",
      "toluene                         0.002488\n",
      "NumOfN                          0.002435\n",
      "nitro                           0.001980\n",
      "nitrate                         0.001524\n",
      "C=C-C=O in non-aromatic ring    0.000773\n",
      "nitroester                      0.000532\n",
      "apin_decane                     0.000027\n",
      "aromatic hydroxyl               0.000000\n",
      "apin_decane_toluene             0.000000\n",
      "apin_toluene                    0.000000\n",
      "decane_toluene                  0.000000\n",
      "dtype: float64\n"
     ]
    }
   ],
   "source": [
    "try:\n",
    "    with open('../pickles/gb_feature_importances.pickle', 'rb') as handle:\n",
    "        gb_feature_importances = pickle.load(handle)\n",
    "except:\n",
    "    gb = HistGradientBoostingRegressor()\n",
    "    gb.fit(train_x, train_y)\n",
    "    gb_feature_importances = permutation_importance(gb, train_x, train_y, n_repeats=30, random_state=0)\n",
    "\n",
    "gb_feature_importance_means = gb_feature_importances.importances_mean\n",
    "gb_feature_importance_means = pd.Series(gb_feature_importance_means, index=train_x.columns)\n",
    "gb_feature_importance_means = gb_feature_importance_means.sort_values(ascending=False)\n",
    "print(gb_feature_importance_means)"
   ]
  },
  {
   "cell_type": "code",
   "execution_count": null,
   "metadata": {},
   "outputs": [
    {
     "name": "stdout",
     "output_type": "stream",
     "text": [
      "    Num of features  R2 score  R2 changed  MSE score  MSE changed  \\\n",
      "0                 1  0.475076    0.475076   5.118225     5.118225   \n",
      "1                 2  0.628089    0.153013   3.626297    -1.491927   \n",
      "2                 3  0.647512    0.019422   3.437017    -0.189281   \n",
      "3                 4  0.674211    0.026699   3.176896    -0.260121   \n",
      "4                 5  0.679081    0.004870   3.129349    -0.047547   \n",
      "5                 6  0.694450    0.015369   2.979443    -0.149906   \n",
      "6                 7  0.699169    0.004719   2.933436    -0.046006   \n",
      "7                 8  0.708608    0.009440   2.841480    -0.091956   \n",
      "8                 9  0.714132    0.005524   2.787573    -0.053907   \n",
      "9                10  0.719545    0.005413   2.734765    -0.052808   \n",
      "10               11  0.725632    0.006087   2.675416    -0.059348   \n",
      "11               12  0.728815    0.003183   2.644460    -0.030957   \n",
      "12               13  0.731741    0.002926   2.615880    -0.028579   \n",
      "13               14  0.732299    0.000558   2.610376    -0.005504   \n",
      "14               15  0.734246    0.001947   2.591434    -0.018942   \n",
      "15               16  0.736987    0.002741   2.564699    -0.026734   \n",
      "16               17  0.736499   -0.000487   2.569434     0.004735   \n",
      "17               18  0.740200    0.003701   2.533337    -0.036097   \n",
      "18               19  0.739850   -0.000351   2.536799     0.003463   \n",
      "19               20  0.742300    0.002451   2.512828    -0.023971   \n",
      "20               21  0.741041   -0.001259   2.525024     0.012195   \n",
      "21               22  0.740079   -0.000963   2.534522     0.009499   \n",
      "22               23  0.741525    0.001447   2.520445    -0.014078   \n",
      "23               24  0.741125   -0.000400   2.524259     0.003815   \n",
      "24               25  0.741331    0.000206   2.522287    -0.001973   \n",
      "25               26  0.740488   -0.000842   2.530515     0.008228   \n",
      "26               27  0.741407    0.000919   2.521481    -0.009034   \n",
      "27               28  0.740264   -0.001143   2.532631     0.011150   \n",
      "28               29  0.741815    0.001551   2.517525    -0.015106   \n",
      "29               30  0.741831    0.000016   2.517375    -0.000150   \n",
      "30               31  0.741176   -0.000655   2.523812     0.006437   \n",
      "\n",
      "                   Feature added  \n",
      "0                 NumHBondDonors  \n",
      "1                         NumOfC  \n",
      "2                      NumOfConf  \n",
      "3          carbonylperoxynitrate  \n",
      "4                  NumOfConfUsed  \n",
      "5                carboxylic acid  \n",
      "6                       peroxide  \n",
      "7                         ketone  \n",
      "8               hydroxyl (alkyl)  \n",
      "9             C=C (non-aromatic)  \n",
      "10                        NumOfO  \n",
      "11                      aldehyde  \n",
      "12             ether (alicyclic)  \n",
      "13                    NumOfAtoms  \n",
      "14                         ester  \n",
      "15            carbonylperoxyacid  \n",
      "16                            MW  \n",
      "17                          apin  \n",
      "18                        decane  \n",
      "19                 hydroperoxide  \n",
      "20                       toluene  \n",
      "21                        NumOfN  \n",
      "22                         nitro  \n",
      "23                       nitrate  \n",
      "24  C=C-C=O in non-aromatic ring  \n",
      "25                    nitroester  \n",
      "26                   apin_decane  \n",
      "27             aromatic hydroxyl  \n",
      "28           apin_decane_toluene  \n",
      "29                  apin_toluene  \n",
      "30                decane_toluene  \n"
     ]
    }
   ],
   "source": [
    "try:\n",
    "    with open('../pickles/gb_feature_selection_results.pickle', 'rb') as handle:\n",
    "        gb_feature_selection_results = pickle.load(handle)\n",
    "        gb_r2_scores = gb_feature_selection_results['r2_scores']\n",
    "        gb_mse_scores = gb_feature_selection_results['mse_scores']\n",
    "except:\n",
    "    gb_r2_scores, gb_mse_scores = feature_selection_importance(gb_feature_importance_means, HistGradientBoostingRegressor(), train_x, train_y)\n",
    "\n",
    "gb_feature_selection_df = get_feature_selection_result_df({\n",
    "    'r2_scores': gb_r2_scores, 'mse_scores': gb_mse_scores, 'added_feature': gb_feature_importance_means.index})\n",
    "print(gb_feature_selection_df)"
   ]
  },
  {
   "cell_type": "code",
   "execution_count": null,
   "metadata": {},
   "outputs": [
    {
     "name": "stdout",
     "output_type": "stream",
     "text": [
      "    Num of features  R2 score  R2 changed  MSE score  MSE changed  \\\n",
      "0                 1  0.475488    0.475488   5.114921     5.114921   \n",
      "1                 2  0.627881    0.152393   3.628712    -1.486209   \n",
      "2                 3  0.654405    0.026524   3.370125    -0.258587   \n",
      "3                 4  0.669295    0.014890   3.224945    -0.145179   \n",
      "4                 5  0.685692    0.016397   3.065048    -0.159897   \n",
      "5                 6  0.693628    0.007935   2.987607    -0.077442   \n",
      "6                 7  0.701302    0.007674   2.912808    -0.074798   \n",
      "7                 8  0.707130    0.005828   2.855993    -0.056816   \n",
      "8                 9  0.712582    0.005452   2.802838    -0.053155   \n",
      "9                10  0.717791    0.005209   2.751966    -0.050872   \n",
      "10               11  0.723181    0.005390   2.699486    -0.052479   \n",
      "11               12  0.727457    0.004277   2.657776    -0.041710   \n",
      "12               13  0.730844    0.003387   2.624739    -0.033037   \n",
      "13               14  0.733033    0.002189   2.603326    -0.021413   \n",
      "14               15  0.735553    0.002520   2.578829    -0.024497   \n",
      "15               16  0.737147    0.001594   2.563294    -0.015535   \n",
      "16               17  0.737977    0.000829   2.555217    -0.008077   \n",
      "17               18  0.738359    0.000383   2.551475    -0.003742   \n",
      "18               19  0.738265   -0.000095   2.552407     0.000932   \n",
      "19               20  0.739069    0.000805   2.544584    -0.007823   \n",
      "20               21  0.740191    0.001122   2.533674    -0.010910   \n",
      "21               22  0.740183   -0.000008   2.533712     0.000038   \n",
      "22               23  0.739457   -0.000726   2.540787     0.007075   \n",
      "23               24  0.739873    0.000416   2.536670    -0.004117   \n",
      "24               25  0.740148    0.000275   2.533998    -0.002672   \n",
      "25               26  0.740670    0.000522   2.528974    -0.005024   \n",
      "26               27  0.739395   -0.001275   2.541372     0.012398   \n",
      "27               28  0.739442    0.000047   2.540904    -0.000468   \n",
      "28               29  0.739128   -0.000314   2.543956     0.003052   \n",
      "29               30  0.738235   -0.000894   2.552722     0.008767   \n",
      "30               31  0.738324    0.000090   2.551815    -0.000907   \n",
      "\n",
      "                   Feature added  \n",
      "0                 NumHBondDonors  \n",
      "1                         NumOfC  \n",
      "2               hydroxyl (alkyl)  \n",
      "3                      NumOfConf  \n",
      "4          carbonylperoxynitrate  \n",
      "5                carboxylic acid  \n",
      "6                           apin  \n",
      "7                         ketone  \n",
      "8                  NumOfConfUsed  \n",
      "9                       peroxide  \n",
      "10                        NumOfO  \n",
      "11                      aldehyde  \n",
      "12            C=C (non-aromatic)  \n",
      "13                         ester  \n",
      "14            carbonylperoxyacid  \n",
      "15             ether (alicyclic)  \n",
      "16                   apin_decane  \n",
      "17                         nitro  \n",
      "18                 hydroperoxide  \n",
      "19                        decane  \n",
      "20  C=C-C=O in non-aromatic ring  \n",
      "21                    nitroester  \n",
      "22                       toluene  \n",
      "23                            MW  \n",
      "24                       nitrate  \n",
      "25           apin_decane_toluene  \n",
      "26             aromatic hydroxyl  \n",
      "27                        NumOfN  \n",
      "28                  apin_toluene  \n",
      "29                decane_toluene  \n",
      "30                    NumOfAtoms  \n"
     ]
    }
   ],
   "source": [
    "try:\n",
    "    with open('../pickles/gb_forward_stepwise_feature_selection_results.pickle', 'rb') as handle:\n",
    "        res = pickle.load(handle)\n",
    "except:\n",
    "    res = feature_selection_forward_stepwise(HistGradientBoostingRegressor(), train_x, train_y)\n",
    "\n",
    "gb_fs_r2_scores = res['r2_scores']\n",
    "gb_fs_mse_scores = res['mse_scores']\n",
    "gb_fs_fitted_features = res['fitted_features']\n",
    "\n",
    "gb_forward_stepwise_result_df = get_feature_selection_result_df({\n",
    "    'r2_scores': gb_fs_r2_scores, 'mse_scores': gb_fs_mse_scores, 'added_feature': [x[len(x) - 1] for x in gb_fs_fitted_features]}) \n",
    "print(gb_forward_stepwise_result_df)"
   ]
  },
  {
   "cell_type": "markdown",
   "metadata": {},
   "source": [
    "## Pickle some stuff"
   ]
  },
  {
   "cell_type": "code",
   "execution_count": 40,
   "metadata": {},
   "outputs": [],
   "source": [
    "with open('../pickles/svm_feature_importances.pickle', 'wb+') as handle:\n",
    "    pickle.dump(svm_feature_importances, handle, protocol=pickle.HIGHEST_PROTOCOL)"
   ]
  },
  {
   "cell_type": "code",
   "execution_count": 60,
   "metadata": {},
   "outputs": [],
   "source": [
    "with open('../pickles/gb_feature_importances.pickle', 'wb+') as handle:\n",
    "    pickle.dump(gb_feature_importances, handle, protocol=pickle.HIGHEST_PROTOCOL)"
   ]
  },
  {
   "cell_type": "code",
   "execution_count": 68,
   "metadata": {},
   "outputs": [],
   "source": [
    "with open('../pickles/svm_feature_selection_results.pickle', 'wb+') as handle:\n",
    "    pickle.dump({'r2_scores': svm_r2_scores, 'mse_scores': svm_mse_scores}, handle, protocol=pickle.HIGHEST_PROTOCOL)"
   ]
  },
  {
   "cell_type": "code",
   "execution_count": 61,
   "metadata": {},
   "outputs": [],
   "source": [
    "with open('../pickles/gb_feature_selection_results.pickle', 'wb+') as handle:\n",
    "    pickle.dump({'r2_scores': gb_r2_scores, 'mse_scores': gb_mse_scores}, handle, protocol=pickle.HIGHEST_PROTOCOL)"
   ]
  },
  {
   "cell_type": "code",
   "execution_count": 34,
   "metadata": {},
   "outputs": [],
   "source": [
    "with open('../pickles/rf_feature_selection_results.pickle', 'wb+') as handle:\n",
    "    pickle.dump({'r2_scores': rf_r2_scores, 'mse_scores': rf_mse_scores}, handle, protocol=pickle.HIGHEST_PROTOCOL)"
   ]
  },
  {
   "cell_type": "code",
   "execution_count": 136,
   "metadata": {},
   "outputs": [],
   "source": [
    "with open('../pickles/gb_forward_stepwise_feature_selection_results.pickle', 'wb+') as handle:\n",
    "    pickle.dump({'fitted_features': res['fitted_features'], 'r2_scores': res['r2_scores'], 'mse_scores': res['mse_scores']}, handle, protocol=pickle.HIGHEST_PROTOCOL)"
   ]
  },
  {
   "cell_type": "code",
   "execution_count": 12,
   "metadata": {},
   "outputs": [],
   "source": [
    "with open('../pickles/svm_forward_stepwise_feature_selection_results.pickle', 'wb+') as handle:\n",
    "    pickle.dump({'fitted_features': res['fitted_features'], 'r2_scores': res['r2_scores'], 'mse_scores': res['mse_scores']}, handle, protocol=pickle.HIGHEST_PROTOCOL)"
   ]
  },
  {
   "cell_type": "code",
   "execution_count": 30,
   "metadata": {},
   "outputs": [],
   "source": [
    "with open('../pickles/rf_forward_stepwise_feature_selection_results.pickle', 'wb+') as handle:\n",
    "    pickle.dump({'fitted_features': res['fitted_features'], 'r2_scores': res['r2_scores'], 'mse_scores': res['mse_scores']}, handle, protocol=pickle.HIGHEST_PROTOCOL)"
   ]
  }
 ],
 "metadata": {
  "kernelspec": {
   "display_name": "mlops_eng",
   "language": "python",
   "name": "python3"
  },
  "language_info": {
   "codemirror_mode": {
    "name": "ipython",
    "version": 3
   },
   "file_extension": ".py",
   "mimetype": "text/x-python",
   "name": "python",
   "nbconvert_exporter": "python",
   "pygments_lexer": "ipython3",
   "version": "3.11.7"
  }
 },
 "nbformat": 4,
 "nbformat_minor": 2
}
